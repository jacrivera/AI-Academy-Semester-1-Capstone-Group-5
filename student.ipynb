{
 "cells": [
  {
   "cell_type": "markdown",
   "metadata": {},
   "source": [
    "## Semester 1 Project Submission\n",
    "\n",
    "Please fill out:\n",
    "* Student name: \n",
    "* Instructor name: \n"
   ]
  },
  {
   "cell_type": "code",
   "execution_count": null,
   "metadata": {},
   "outputs": [],
   "source": [
    "# Your code here - remember to use markdown cells for comments as well!\n",
    "#Jack Pacheco\n",
    "#JP Ventura Julian Ward"
   ]
  },
  {
   "cell_type": "code",
   "execution_count": null,
   "metadata": {},
   "outputs": [],
   "source": [
    "#Loading in python dependencies\n",
    "import pandas as pd\n",
    "import matplotlib.pyplot as plt\n",
    "import seaborn as sns\n",
    "import sqlite3\n",
    "import numpy as np\n",
    "%matplotlib inline "
   ]
  },
  {
   "cell_type": "code",
   "execution_count": null,
   "metadata": {},
   "outputs": [],
   "source": [
    "movie3 = pd.read_csv(\"zippedData/bom.movie_gross.csv.gz\")\n",
    "movie3 = movie3.rename(columns={'title':\"movie\"})\n",
    "movie3.head()"
   ]
  },
  {
   "cell_type": "code",
   "execution_count": null,
   "metadata": {},
   "outputs": [],
   "source": [
    "moviebudgets = pd.read_csv(\"zippedData/tn.movie_budgets.csv.gz\")\n",
    "moviebudgets[\"production_budget\"] = moviebudgets['production_budget'].map(lambda x: x.strip(\"$\"))\n",
    "moviebudgets[\"production_budget\"] = moviebudgets['production_budget'].map(lambda x: x.replace(\",\", \"\"))\n",
    "\n",
    "moviebudgets[\"domestic_gross\"] = moviebudgets['domestic_gross'].map(lambda x: x.strip(\"$\"))\n",
    "moviebudgets[\"domestic_gross\"] = moviebudgets['domestic_gross'].map(lambda x: x.replace(\",\",\"\"))\n",
    "\n",
    "moviebudgets[\"worldwide_gross\"] = moviebudgets['worldwide_gross'].map(lambda x: x.strip(\"$\"))\n",
    "moviebudgets[\"worldwide_gross\"] = moviebudgets['worldwide_gross'].map(lambda x: x.replace(\",\",\"\"))\n",
    "\n",
    "\n",
    "moviebudgets= moviebudgets.astype({'production_budget': np.int64, 'domestic_gross': np.int64, 'worldwide_gross': np.int64})\n",
    "moviebudgets.head()"
   ]
  },
  {
   "cell_type": "code",
   "execution_count": null,
   "metadata": {},
   "outputs": [],
   "source": [
    "movie_total_gross = movie3.join(moviebudgets.set_index(\"movie\"), on= ['movie'], how = 'inner',rsuffix = \"___\")\n",
    "movie_total_gross = movie_total_gross.set_index('id')\n",
    "movie_total_gross.head()"
   ]
  },
  {
   "cell_type": "code",
   "execution_count": null,
   "metadata": {},
   "outputs": [],
   "source": [
    "movie4 = pd.read_csv('zippedData/tmdb.movies.csv.gz')"
   ]
  },
  {
   "cell_type": "code",
   "execution_count": null,
   "metadata": {},
   "outputs": [],
   "source": [
    "movie4= movie4.rename(columns={'original_title':\"movie\"})\n",
    "movie4.head()\n",
    "movies_and_rating = movie4.join(movie_total_gross.set_index(\"movie\"), on = 'movie', how = 'left', lsuffix = '__')"
   ]
  },
  {
   "cell_type": "code",
   "execution_count": null,
   "metadata": {},
   "outputs": [],
   "source": [
    "movies_and_rating.set_index(\"movie\")"
   ]
  }
 ],
 "metadata": {
  "kernelspec": {
   "display_name": "Python 3",
   "language": "python",
   "name": "python3"
  },
  "language_info": {
   "codemirror_mode": {
    "name": "ipython",
    "version": 3
   },
   "file_extension": ".py",
   "mimetype": "text/x-python",
   "name": "python",
   "nbconvert_exporter": "python",
   "pygments_lexer": "ipython3",
   "version": "3.8.5"
  }
 },
 "nbformat": 4,
 "nbformat_minor": 2
}
