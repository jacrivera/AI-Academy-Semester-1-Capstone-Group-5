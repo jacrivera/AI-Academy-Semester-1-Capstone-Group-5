{
 "cells": [
  {
   "cell_type": "markdown",
   "metadata": {},
   "source": [
    "## Semester 1 Project Submission\n",
    "\n",
    "Please fill out:\n",
    "* Student name: \n",
    "* Instructor name: \n"
   ]
  },
  {
   "cell_type": "markdown",
   "metadata": {},
   "source": [
    "## Students:\n",
    "### Graham Costa\n",
    "### Erin Lee\n",
    "### Jack Pacheco\n",
    "### Uma Sethuraman\n",
    "### Jacky Rivera\n",
    "## Instructors:\n",
    "### JP Ventura \n",
    "### Julian Ward"
   ]
  },
  {
   "cell_type": "markdown",
   "metadata": {},
   "source": [
    "# AI Academy Capstone Project\n",
    "\n",
    "## Project Goal\n",
    "\n",
    "The goal for this project is to recommend three key business insights for the company Computing Vision passed on our Exploratory data analysis, data visualizations, and statistical inference\n",
    "\n"
   ]
  },
  {
   "cell_type": "markdown",
   "metadata": {},
   "source": [
    "# Loading in python dependencies and packages for data manipulation and visualizations\n"
   ]
  },
  {
   "cell_type": "code",
   "execution_count": 1,
   "metadata": {},
   "outputs": [],
   "source": [
    "import pandas as pd\n",
    "import matplotlib.pyplot as plt\n",
    "import seaborn as sns\n",
    "import sqlite3\n",
    "import numpy as np\n",
    "import zipfile\n",
    "import sqlite3\n",
    "from scipy import stats \n",
    "\n",
    "%matplotlib inline"
   ]
  },
  {
   "cell_type": "markdown",
   "metadata": {},
   "source": [
    "# Begin loading in datasets and preparing for mergers\n",
    "\n",
    "## Prepare data for merging by making sure the right types are in place and renaming columns for easier joining on index"
   ]
  },
  {
   "cell_type": "code",
   "execution_count": 2,
   "metadata": {},
   "outputs": [
    {
     "data": {
      "text/html": [
       "<div>\n",
       "<style scoped>\n",
       "    .dataframe tbody tr th:only-of-type {\n",
       "        vertical-align: middle;\n",
       "    }\n",
       "\n",
       "    .dataframe tbody tr th {\n",
       "        vertical-align: top;\n",
       "    }\n",
       "\n",
       "    .dataframe thead th {\n",
       "        text-align: right;\n",
       "    }\n",
       "</style>\n",
       "<table border=\"1\" class=\"dataframe\">\n",
       "  <thead>\n",
       "    <tr style=\"text-align: right;\">\n",
       "      <th></th>\n",
       "      <th>movie</th>\n",
       "      <th>studio</th>\n",
       "      <th>domestic_gross</th>\n",
       "      <th>foreign_gross</th>\n",
       "      <th>year</th>\n",
       "    </tr>\n",
       "  </thead>\n",
       "  <tbody>\n",
       "    <tr>\n",
       "      <th>0</th>\n",
       "      <td>Toy Story 3</td>\n",
       "      <td>BV</td>\n",
       "      <td>415000000.0</td>\n",
       "      <td>652000000</td>\n",
       "      <td>2010</td>\n",
       "    </tr>\n",
       "    <tr>\n",
       "      <th>1</th>\n",
       "      <td>Alice in Wonderland (2010)</td>\n",
       "      <td>BV</td>\n",
       "      <td>334200000.0</td>\n",
       "      <td>691300000</td>\n",
       "      <td>2010</td>\n",
       "    </tr>\n",
       "    <tr>\n",
       "      <th>2</th>\n",
       "      <td>Harry Potter and the Deathly Hallows: Part 1</td>\n",
       "      <td>WB</td>\n",
       "      <td>296000000.0</td>\n",
       "      <td>664300000</td>\n",
       "      <td>2010</td>\n",
       "    </tr>\n",
       "    <tr>\n",
       "      <th>3</th>\n",
       "      <td>Inception</td>\n",
       "      <td>WB</td>\n",
       "      <td>292600000.0</td>\n",
       "      <td>535700000</td>\n",
       "      <td>2010</td>\n",
       "    </tr>\n",
       "    <tr>\n",
       "      <th>4</th>\n",
       "      <td>Shrek Forever After</td>\n",
       "      <td>P/DW</td>\n",
       "      <td>238700000.0</td>\n",
       "      <td>513900000</td>\n",
       "      <td>2010</td>\n",
       "    </tr>\n",
       "  </tbody>\n",
       "</table>\n",
       "</div>"
      ],
      "text/plain": [
       "                                          movie studio  domestic_gross  \\\n",
       "0                                   Toy Story 3     BV     415000000.0   \n",
       "1                    Alice in Wonderland (2010)     BV     334200000.0   \n",
       "2  Harry Potter and the Deathly Hallows: Part 1     WB     296000000.0   \n",
       "3                                     Inception     WB     292600000.0   \n",
       "4                           Shrek Forever After   P/DW     238700000.0   \n",
       "\n",
       "  foreign_gross  year  \n",
       "0     652000000  2010  \n",
       "1     691300000  2010  \n",
       "2     664300000  2010  \n",
       "3     535700000  2010  \n",
       "4     513900000  2010  "
      ]
     },
     "execution_count": 2,
     "metadata": {},
     "output_type": "execute_result"
    }
   ],
   "source": [
    "movie_bom = pd.read_csv(\"zippedData/bom.movie_gross.csv.gz\")\n",
    "movie_bom = movie_bom.rename(columns={'title':\"movie\"})\n",
    "movie_bom['movie'] = movie_bom['movie'].map(lambda x: \"Harry Potter and the Deathly Hallows: Part 1\" if x == \"Harry Potter and the Deathly Hallows Part 1\" else x)\n",
    "movie_bom.head()"
   ]
  },
  {
   "cell_type": "code",
   "execution_count": 3,
   "metadata": {},
   "outputs": [],
   "source": [
    "#pulling in movie budgets dataset and preparing it for joining by changing object types to int. "
   ]
  },
  {
   "cell_type": "markdown",
   "metadata": {},
   "source": [
    "## Load in The Number data set, cleanup column information and prepare for join"
   ]
  },
  {
   "cell_type": "code",
   "execution_count": 4,
   "metadata": {},
   "outputs": [
    {
     "data": {
      "text/html": [
       "<div>\n",
       "<style scoped>\n",
       "    .dataframe tbody tr th:only-of-type {\n",
       "        vertical-align: middle;\n",
       "    }\n",
       "\n",
       "    .dataframe tbody tr th {\n",
       "        vertical-align: top;\n",
       "    }\n",
       "\n",
       "    .dataframe thead th {\n",
       "        text-align: right;\n",
       "    }\n",
       "</style>\n",
       "<table border=\"1\" class=\"dataframe\">\n",
       "  <thead>\n",
       "    <tr style=\"text-align: right;\">\n",
       "      <th></th>\n",
       "      <th>id</th>\n",
       "      <th>release_date</th>\n",
       "      <th>movie</th>\n",
       "      <th>production_budget</th>\n",
       "      <th>domestic_gross</th>\n",
       "      <th>worldwide_gross</th>\n",
       "    </tr>\n",
       "  </thead>\n",
       "  <tbody>\n",
       "    <tr>\n",
       "      <th>0</th>\n",
       "      <td>1</td>\n",
       "      <td>Dec 18, 2009</td>\n",
       "      <td>Avatar</td>\n",
       "      <td>425000000</td>\n",
       "      <td>760507625</td>\n",
       "      <td>2776345279</td>\n",
       "    </tr>\n",
       "    <tr>\n",
       "      <th>1</th>\n",
       "      <td>2</td>\n",
       "      <td>May 20, 2011</td>\n",
       "      <td>Pirates of the Caribbean: On Stranger Tides</td>\n",
       "      <td>410600000</td>\n",
       "      <td>241063875</td>\n",
       "      <td>1045663875</td>\n",
       "    </tr>\n",
       "    <tr>\n",
       "      <th>2</th>\n",
       "      <td>3</td>\n",
       "      <td>Jun 7, 2019</td>\n",
       "      <td>Dark Phoenix</td>\n",
       "      <td>350000000</td>\n",
       "      <td>42762350</td>\n",
       "      <td>149762350</td>\n",
       "    </tr>\n",
       "    <tr>\n",
       "      <th>3</th>\n",
       "      <td>4</td>\n",
       "      <td>May 1, 2015</td>\n",
       "      <td>Avengers: Age of Ultron</td>\n",
       "      <td>330600000</td>\n",
       "      <td>459005868</td>\n",
       "      <td>1403013963</td>\n",
       "    </tr>\n",
       "    <tr>\n",
       "      <th>4</th>\n",
       "      <td>5</td>\n",
       "      <td>Dec 15, 2017</td>\n",
       "      <td>Star Wars Ep. VIII: The Last Jedi</td>\n",
       "      <td>317000000</td>\n",
       "      <td>620181382</td>\n",
       "      <td>1316721747</td>\n",
       "    </tr>\n",
       "    <tr>\n",
       "      <th>5</th>\n",
       "      <td>6</td>\n",
       "      <td>Dec 18, 2015</td>\n",
       "      <td>Star Wars Ep. VII: The Force Awakens</td>\n",
       "      <td>306000000</td>\n",
       "      <td>936662225</td>\n",
       "      <td>2053311220</td>\n",
       "    </tr>\n",
       "    <tr>\n",
       "      <th>6</th>\n",
       "      <td>7</td>\n",
       "      <td>Apr 27, 2018</td>\n",
       "      <td>Avengers: Infinity War</td>\n",
       "      <td>300000000</td>\n",
       "      <td>678815482</td>\n",
       "      <td>2048134200</td>\n",
       "    </tr>\n",
       "    <tr>\n",
       "      <th>7</th>\n",
       "      <td>8</td>\n",
       "      <td>May 24, 2007</td>\n",
       "      <td>Pirates of the Caribbean: At Worldâs End</td>\n",
       "      <td>300000000</td>\n",
       "      <td>309420425</td>\n",
       "      <td>963420425</td>\n",
       "    </tr>\n",
       "    <tr>\n",
       "      <th>8</th>\n",
       "      <td>9</td>\n",
       "      <td>Nov 17, 2017</td>\n",
       "      <td>Justice League</td>\n",
       "      <td>300000000</td>\n",
       "      <td>229024295</td>\n",
       "      <td>655945209</td>\n",
       "    </tr>\n",
       "    <tr>\n",
       "      <th>9</th>\n",
       "      <td>10</td>\n",
       "      <td>Nov 6, 2015</td>\n",
       "      <td>Spectre</td>\n",
       "      <td>300000000</td>\n",
       "      <td>200074175</td>\n",
       "      <td>879620923</td>\n",
       "    </tr>\n",
       "  </tbody>\n",
       "</table>\n",
       "</div>"
      ],
      "text/plain": [
       "   id  release_date                                        movie  \\\n",
       "0   1  Dec 18, 2009                                       Avatar   \n",
       "1   2  May 20, 2011  Pirates of the Caribbean: On Stranger Tides   \n",
       "2   3   Jun 7, 2019                                 Dark Phoenix   \n",
       "3   4   May 1, 2015                      Avengers: Age of Ultron   \n",
       "4   5  Dec 15, 2017            Star Wars Ep. VIII: The Last Jedi   \n",
       "5   6  Dec 18, 2015         Star Wars Ep. VII: The Force Awakens   \n",
       "6   7  Apr 27, 2018                       Avengers: Infinity War   \n",
       "7   8  May 24, 2007   Pirates of the Caribbean: At Worldâs End   \n",
       "8   9  Nov 17, 2017                               Justice League   \n",
       "9  10   Nov 6, 2015                                      Spectre   \n",
       "\n",
       "   production_budget  domestic_gross  worldwide_gross  \n",
       "0          425000000       760507625       2776345279  \n",
       "1          410600000       241063875       1045663875  \n",
       "2          350000000        42762350        149762350  \n",
       "3          330600000       459005868       1403013963  \n",
       "4          317000000       620181382       1316721747  \n",
       "5          306000000       936662225       2053311220  \n",
       "6          300000000       678815482       2048134200  \n",
       "7          300000000       309420425        963420425  \n",
       "8          300000000       229024295        655945209  \n",
       "9          300000000       200074175        879620923  "
      ]
     },
     "execution_count": 4,
     "metadata": {},
     "output_type": "execute_result"
    }
   ],
   "source": [
    "moviebudgets = pd.read_csv(\"zippedData/tn.movie_budgets.csv.gz\")\n",
    "moviebudgets[\"production_budget\"] = moviebudgets['production_budget'].map(lambda x: x.strip(\"$\"))\n",
    "moviebudgets[\"production_budget\"] = moviebudgets['production_budget'].map(lambda x: x.replace(\",\", \"\"))\n",
    "\n",
    "moviebudgets[\"domestic_gross\"] = moviebudgets['domestic_gross'].map(lambda x: x.strip(\"$\"))\n",
    "moviebudgets[\"domestic_gross\"] = moviebudgets['domestic_gross'].map(lambda x: x.replace(\",\",\"\"))\n",
    "\n",
    "moviebudgets[\"worldwide_gross\"] = moviebudgets['worldwide_gross'].map(lambda x: x.strip(\"$\"))\n",
    "moviebudgets[\"worldwide_gross\"] = moviebudgets['worldwide_gross'].map(lambda x: x.replace(\",\",\"\"))\n",
    "\n",
    "\n",
    "moviebudgets= moviebudgets.astype({'production_budget': np.int64, 'domestic_gross': np.int64, 'worldwide_gross': np.int64})\n",
    "moviebudgets.head(10)"
   ]
  },
  {
   "cell_type": "markdown",
   "metadata": {},
   "source": [
    "# Join Box office movies and the numbers dataset on index movie"
   ]
  },
  {
   "cell_type": "code",
   "execution_count": 5,
   "metadata": {},
   "outputs": [],
   "source": [
    "#joining movie budgets dataset with bom movie gross so we can have the studio names"
   ]
  },
  {
   "cell_type": "code",
   "execution_count": 6,
   "metadata": {},
   "outputs": [
    {
     "data": {
      "text/html": [
       "<div>\n",
       "<style scoped>\n",
       "    .dataframe tbody tr th:only-of-type {\n",
       "        vertical-align: middle;\n",
       "    }\n",
       "\n",
       "    .dataframe tbody tr th {\n",
       "        vertical-align: top;\n",
       "    }\n",
       "\n",
       "    .dataframe thead th {\n",
       "        text-align: right;\n",
       "    }\n",
       "</style>\n",
       "<table border=\"1\" class=\"dataframe\">\n",
       "  <thead>\n",
       "    <tr style=\"text-align: right;\">\n",
       "      <th></th>\n",
       "      <th>movie</th>\n",
       "      <th>studio</th>\n",
       "      <th>domestic_gross</th>\n",
       "      <th>foreign_gross</th>\n",
       "      <th>year</th>\n",
       "      <th>release_date</th>\n",
       "      <th>production_budget</th>\n",
       "      <th>domestic_gross___</th>\n",
       "      <th>worldwide_gross</th>\n",
       "    </tr>\n",
       "    <tr>\n",
       "      <th>id</th>\n",
       "      <th></th>\n",
       "      <th></th>\n",
       "      <th></th>\n",
       "      <th></th>\n",
       "      <th></th>\n",
       "      <th></th>\n",
       "      <th></th>\n",
       "      <th></th>\n",
       "      <th></th>\n",
       "    </tr>\n",
       "  </thead>\n",
       "  <tbody>\n",
       "    <tr>\n",
       "      <th>47.0</th>\n",
       "      <td>Toy Story 3</td>\n",
       "      <td>BV</td>\n",
       "      <td>415000000.0</td>\n",
       "      <td>652000000</td>\n",
       "      <td>2010</td>\n",
       "      <td>Jun 18, 2010</td>\n",
       "      <td>200000000.0</td>\n",
       "      <td>415004880.0</td>\n",
       "      <td>1.068880e+09</td>\n",
       "    </tr>\n",
       "    <tr>\n",
       "      <th>NaN</th>\n",
       "      <td>Alice in Wonderland (2010)</td>\n",
       "      <td>BV</td>\n",
       "      <td>334200000.0</td>\n",
       "      <td>691300000</td>\n",
       "      <td>2010</td>\n",
       "      <td>NaN</td>\n",
       "      <td>NaN</td>\n",
       "      <td>NaN</td>\n",
       "      <td>NaN</td>\n",
       "    </tr>\n",
       "    <tr>\n",
       "      <th>NaN</th>\n",
       "      <td>Harry Potter and the Deathly Hallows: Part 1</td>\n",
       "      <td>WB</td>\n",
       "      <td>296000000.0</td>\n",
       "      <td>664300000</td>\n",
       "      <td>2010</td>\n",
       "      <td>NaN</td>\n",
       "      <td>NaN</td>\n",
       "      <td>NaN</td>\n",
       "      <td>NaN</td>\n",
       "    </tr>\n",
       "    <tr>\n",
       "      <th>38.0</th>\n",
       "      <td>Inception</td>\n",
       "      <td>WB</td>\n",
       "      <td>292600000.0</td>\n",
       "      <td>535700000</td>\n",
       "      <td>2010</td>\n",
       "      <td>Jul 16, 2010</td>\n",
       "      <td>160000000.0</td>\n",
       "      <td>292576195.0</td>\n",
       "      <td>8.355246e+08</td>\n",
       "    </tr>\n",
       "    <tr>\n",
       "      <th>27.0</th>\n",
       "      <td>Shrek Forever After</td>\n",
       "      <td>P/DW</td>\n",
       "      <td>238700000.0</td>\n",
       "      <td>513900000</td>\n",
       "      <td>2010</td>\n",
       "      <td>May 21, 2010</td>\n",
       "      <td>165000000.0</td>\n",
       "      <td>238736787.0</td>\n",
       "      <td>7.562447e+08</td>\n",
       "    </tr>\n",
       "    <tr>\n",
       "      <th>...</th>\n",
       "      <td>...</td>\n",
       "      <td>...</td>\n",
       "      <td>...</td>\n",
       "      <td>...</td>\n",
       "      <td>...</td>\n",
       "      <td>...</td>\n",
       "      <td>...</td>\n",
       "      <td>...</td>\n",
       "      <td>...</td>\n",
       "    </tr>\n",
       "    <tr>\n",
       "      <th>NaN</th>\n",
       "      <td>The Quake</td>\n",
       "      <td>Magn.</td>\n",
       "      <td>6200.0</td>\n",
       "      <td>NaN</td>\n",
       "      <td>2018</td>\n",
       "      <td>NaN</td>\n",
       "      <td>NaN</td>\n",
       "      <td>NaN</td>\n",
       "      <td>NaN</td>\n",
       "    </tr>\n",
       "    <tr>\n",
       "      <th>NaN</th>\n",
       "      <td>Edward II (2018 re-release)</td>\n",
       "      <td>FM</td>\n",
       "      <td>4800.0</td>\n",
       "      <td>NaN</td>\n",
       "      <td>2018</td>\n",
       "      <td>NaN</td>\n",
       "      <td>NaN</td>\n",
       "      <td>NaN</td>\n",
       "      <td>NaN</td>\n",
       "    </tr>\n",
       "    <tr>\n",
       "      <th>NaN</th>\n",
       "      <td>El Pacto</td>\n",
       "      <td>Sony</td>\n",
       "      <td>2500.0</td>\n",
       "      <td>NaN</td>\n",
       "      <td>2018</td>\n",
       "      <td>NaN</td>\n",
       "      <td>NaN</td>\n",
       "      <td>NaN</td>\n",
       "      <td>NaN</td>\n",
       "    </tr>\n",
       "    <tr>\n",
       "      <th>NaN</th>\n",
       "      <td>The Swan</td>\n",
       "      <td>Synergetic</td>\n",
       "      <td>2400.0</td>\n",
       "      <td>NaN</td>\n",
       "      <td>2018</td>\n",
       "      <td>NaN</td>\n",
       "      <td>NaN</td>\n",
       "      <td>NaN</td>\n",
       "      <td>NaN</td>\n",
       "    </tr>\n",
       "    <tr>\n",
       "      <th>NaN</th>\n",
       "      <td>An Actor Prepares</td>\n",
       "      <td>Grav.</td>\n",
       "      <td>1700.0</td>\n",
       "      <td>NaN</td>\n",
       "      <td>2018</td>\n",
       "      <td>NaN</td>\n",
       "      <td>NaN</td>\n",
       "      <td>NaN</td>\n",
       "      <td>NaN</td>\n",
       "    </tr>\n",
       "  </tbody>\n",
       "</table>\n",
       "<p>3396 rows × 9 columns</p>\n",
       "</div>"
      ],
      "text/plain": [
       "                                             movie      studio  \\\n",
       "id                                                               \n",
       "47.0                                   Toy Story 3          BV   \n",
       "NaN                     Alice in Wonderland (2010)          BV   \n",
       "NaN   Harry Potter and the Deathly Hallows: Part 1          WB   \n",
       "38.0                                     Inception          WB   \n",
       "27.0                           Shrek Forever After        P/DW   \n",
       "...                                            ...         ...   \n",
       "NaN                                      The Quake       Magn.   \n",
       "NaN                    Edward II (2018 re-release)          FM   \n",
       "NaN                                       El Pacto        Sony   \n",
       "NaN                                       The Swan  Synergetic   \n",
       "NaN                              An Actor Prepares       Grav.   \n",
       "\n",
       "      domestic_gross foreign_gross  year  release_date  production_budget  \\\n",
       "id                                                                          \n",
       "47.0     415000000.0     652000000  2010  Jun 18, 2010        200000000.0   \n",
       "NaN      334200000.0     691300000  2010           NaN                NaN   \n",
       "NaN      296000000.0     664300000  2010           NaN                NaN   \n",
       "38.0     292600000.0     535700000  2010  Jul 16, 2010        160000000.0   \n",
       "27.0     238700000.0     513900000  2010  May 21, 2010        165000000.0   \n",
       "...              ...           ...   ...           ...                ...   \n",
       "NaN           6200.0           NaN  2018           NaN                NaN   \n",
       "NaN           4800.0           NaN  2018           NaN                NaN   \n",
       "NaN           2500.0           NaN  2018           NaN                NaN   \n",
       "NaN           2400.0           NaN  2018           NaN                NaN   \n",
       "NaN           1700.0           NaN  2018           NaN                NaN   \n",
       "\n",
       "      domestic_gross___  worldwide_gross  \n",
       "id                                        \n",
       "47.0        415004880.0     1.068880e+09  \n",
       "NaN                 NaN              NaN  \n",
       "NaN                 NaN              NaN  \n",
       "38.0        292576195.0     8.355246e+08  \n",
       "27.0        238736787.0     7.562447e+08  \n",
       "...                 ...              ...  \n",
       "NaN                 NaN              NaN  \n",
       "NaN                 NaN              NaN  \n",
       "NaN                 NaN              NaN  \n",
       "NaN                 NaN              NaN  \n",
       "NaN                 NaN              NaN  \n",
       "\n",
       "[3396 rows x 9 columns]"
      ]
     },
     "execution_count": 6,
     "metadata": {},
     "output_type": "execute_result"
    }
   ],
   "source": [
    "movie_total_gross = movie_bom.join(moviebudgets.set_index(\"movie\"), on= ['movie'],rsuffix = \"___\")\n",
    "movie_total_gross = movie_total_gross.set_index('id')\n",
    "movie_total_gross"
   ]
  },
  {
   "cell_type": "code",
   "execution_count": 7,
   "metadata": {},
   "outputs": [],
   "source": [
    "movie_tmdb = pd.read_csv('zippedData/tmdb.movies.csv.gz')"
   ]
  },
  {
   "cell_type": "code",
   "execution_count": 8,
   "metadata": {},
   "outputs": [],
   "source": [
    "movie_tmdb= movie_tmdb.rename(columns={'original_title':\"movie\"})\n",
    "movie_tmdb = movie_tmdb.set_index(\"movie\")\n"
   ]
  },
  {
   "cell_type": "markdown",
   "metadata": {},
   "source": [
    "## Pull in tmdb movie dataset and prepare for merger with the existing data frame"
   ]
  },
  {
   "cell_type": "code",
   "execution_count": 9,
   "metadata": {},
   "outputs": [],
   "source": [
    "#pullin in tmdb ratings so we have budget info and ratings "
   ]
  },
  {
   "cell_type": "code",
   "execution_count": 10,
   "metadata": {},
   "outputs": [],
   "source": [
    "movies_and_rating = movie_total_gross.join(movie_tmdb, on = 'movie', how = 'outer', lsuffix = '__')"
   ]
  },
  {
   "cell_type": "code",
   "execution_count": 11,
   "metadata": {},
   "outputs": [
    {
     "data": {
      "text/html": [
       "<div>\n",
       "<style scoped>\n",
       "    .dataframe tbody tr th:only-of-type {\n",
       "        vertical-align: middle;\n",
       "    }\n",
       "\n",
       "    .dataframe tbody tr th {\n",
       "        vertical-align: top;\n",
       "    }\n",
       "\n",
       "    .dataframe thead th {\n",
       "        text-align: right;\n",
       "    }\n",
       "</style>\n",
       "<table border=\"1\" class=\"dataframe\">\n",
       "  <thead>\n",
       "    <tr style=\"text-align: right;\">\n",
       "      <th></th>\n",
       "      <th>movie</th>\n",
       "      <th>studio</th>\n",
       "      <th>domestic_gross</th>\n",
       "      <th>foreign_gross</th>\n",
       "      <th>year</th>\n",
       "      <th>release_date__</th>\n",
       "      <th>production_budget</th>\n",
       "      <th>domestic_gross___</th>\n",
       "      <th>worldwide_gross</th>\n",
       "      <th>Unnamed: 0</th>\n",
       "      <th>genre_ids</th>\n",
       "      <th>id</th>\n",
       "      <th>original_language</th>\n",
       "      <th>popularity</th>\n",
       "      <th>release_date</th>\n",
       "      <th>title</th>\n",
       "      <th>vote_average</th>\n",
       "      <th>vote_count</th>\n",
       "    </tr>\n",
       "  </thead>\n",
       "  <tbody>\n",
       "    <tr>\n",
       "      <th>47.0</th>\n",
       "      <td>Toy Story 3</td>\n",
       "      <td>BV</td>\n",
       "      <td>415000000.0</td>\n",
       "      <td>652000000</td>\n",
       "      <td>2010.0</td>\n",
       "      <td>Jun 18, 2010</td>\n",
       "      <td>200000000.0</td>\n",
       "      <td>415004880.0</td>\n",
       "      <td>1.068880e+09</td>\n",
       "      <td>7.0</td>\n",
       "      <td>[16, 10751, 35]</td>\n",
       "      <td>10193.0</td>\n",
       "      <td>en</td>\n",
       "      <td>24.445</td>\n",
       "      <td>2010-06-17</td>\n",
       "      <td>Toy Story 3</td>\n",
       "      <td>7.7</td>\n",
       "      <td>8340.0</td>\n",
       "    </tr>\n",
       "    <tr>\n",
       "      <th>NaN</th>\n",
       "      <td>Alice in Wonderland (2010)</td>\n",
       "      <td>BV</td>\n",
       "      <td>334200000.0</td>\n",
       "      <td>691300000</td>\n",
       "      <td>2010.0</td>\n",
       "      <td>NaN</td>\n",
       "      <td>NaN</td>\n",
       "      <td>NaN</td>\n",
       "      <td>NaN</td>\n",
       "      <td>NaN</td>\n",
       "      <td>NaN</td>\n",
       "      <td>NaN</td>\n",
       "      <td>NaN</td>\n",
       "      <td>NaN</td>\n",
       "      <td>NaN</td>\n",
       "      <td>NaN</td>\n",
       "      <td>NaN</td>\n",
       "      <td>NaN</td>\n",
       "    </tr>\n",
       "    <tr>\n",
       "      <th>NaN</th>\n",
       "      <td>Harry Potter and the Deathly Hallows: Part 1</td>\n",
       "      <td>WB</td>\n",
       "      <td>296000000.0</td>\n",
       "      <td>664300000</td>\n",
       "      <td>2010.0</td>\n",
       "      <td>NaN</td>\n",
       "      <td>NaN</td>\n",
       "      <td>NaN</td>\n",
       "      <td>NaN</td>\n",
       "      <td>0.0</td>\n",
       "      <td>[12, 14, 10751]</td>\n",
       "      <td>12444.0</td>\n",
       "      <td>en</td>\n",
       "      <td>33.533</td>\n",
       "      <td>2010-11-19</td>\n",
       "      <td>Harry Potter and the Deathly Hallows: Part 1</td>\n",
       "      <td>7.7</td>\n",
       "      <td>10788.0</td>\n",
       "    </tr>\n",
       "    <tr>\n",
       "      <th>38.0</th>\n",
       "      <td>Inception</td>\n",
       "      <td>WB</td>\n",
       "      <td>292600000.0</td>\n",
       "      <td>535700000</td>\n",
       "      <td>2010.0</td>\n",
       "      <td>Jul 16, 2010</td>\n",
       "      <td>160000000.0</td>\n",
       "      <td>292576195.0</td>\n",
       "      <td>8.355246e+08</td>\n",
       "      <td>4.0</td>\n",
       "      <td>[28, 878, 12]</td>\n",
       "      <td>27205.0</td>\n",
       "      <td>en</td>\n",
       "      <td>27.920</td>\n",
       "      <td>2010-07-16</td>\n",
       "      <td>Inception</td>\n",
       "      <td>8.3</td>\n",
       "      <td>22186.0</td>\n",
       "    </tr>\n",
       "    <tr>\n",
       "      <th>27.0</th>\n",
       "      <td>Shrek Forever After</td>\n",
       "      <td>P/DW</td>\n",
       "      <td>238700000.0</td>\n",
       "      <td>513900000</td>\n",
       "      <td>2010.0</td>\n",
       "      <td>May 21, 2010</td>\n",
       "      <td>165000000.0</td>\n",
       "      <td>238736787.0</td>\n",
       "      <td>7.562447e+08</td>\n",
       "      <td>38.0</td>\n",
       "      <td>[35, 12, 14, 16, 10751]</td>\n",
       "      <td>10192.0</td>\n",
       "      <td>en</td>\n",
       "      <td>15.041</td>\n",
       "      <td>2010-05-16</td>\n",
       "      <td>Shrek Forever After</td>\n",
       "      <td>6.1</td>\n",
       "      <td>3843.0</td>\n",
       "    </tr>\n",
       "    <tr>\n",
       "      <th>...</th>\n",
       "      <td>...</td>\n",
       "      <td>...</td>\n",
       "      <td>...</td>\n",
       "      <td>...</td>\n",
       "      <td>...</td>\n",
       "      <td>...</td>\n",
       "      <td>...</td>\n",
       "      <td>...</td>\n",
       "      <td>...</td>\n",
       "      <td>...</td>\n",
       "      <td>...</td>\n",
       "      <td>...</td>\n",
       "      <td>...</td>\n",
       "      <td>...</td>\n",
       "      <td>...</td>\n",
       "      <td>...</td>\n",
       "      <td>...</td>\n",
       "      <td>...</td>\n",
       "    </tr>\n",
       "    <tr>\n",
       "      <th>NaN</th>\n",
       "      <td>Laboratory Conditions</td>\n",
       "      <td>NaN</td>\n",
       "      <td>NaN</td>\n",
       "      <td>NaN</td>\n",
       "      <td>NaN</td>\n",
       "      <td>NaN</td>\n",
       "      <td>NaN</td>\n",
       "      <td>NaN</td>\n",
       "      <td>NaN</td>\n",
       "      <td>26512.0</td>\n",
       "      <td>[27, 18]</td>\n",
       "      <td>488143.0</td>\n",
       "      <td>en</td>\n",
       "      <td>0.600</td>\n",
       "      <td>2018-10-13</td>\n",
       "      <td>Laboratory Conditions</td>\n",
       "      <td>0.0</td>\n",
       "      <td>1.0</td>\n",
       "    </tr>\n",
       "    <tr>\n",
       "      <th>NaN</th>\n",
       "      <td>_EXHIBIT_84xxx_</td>\n",
       "      <td>NaN</td>\n",
       "      <td>NaN</td>\n",
       "      <td>NaN</td>\n",
       "      <td>NaN</td>\n",
       "      <td>NaN</td>\n",
       "      <td>NaN</td>\n",
       "      <td>NaN</td>\n",
       "      <td>NaN</td>\n",
       "      <td>26513.0</td>\n",
       "      <td>[18, 53]</td>\n",
       "      <td>485975.0</td>\n",
       "      <td>en</td>\n",
       "      <td>0.600</td>\n",
       "      <td>2018-05-01</td>\n",
       "      <td>_EXHIBIT_84xxx_</td>\n",
       "      <td>0.0</td>\n",
       "      <td>1.0</td>\n",
       "    </tr>\n",
       "    <tr>\n",
       "      <th>NaN</th>\n",
       "      <td>The Last One</td>\n",
       "      <td>NaN</td>\n",
       "      <td>NaN</td>\n",
       "      <td>NaN</td>\n",
       "      <td>NaN</td>\n",
       "      <td>NaN</td>\n",
       "      <td>NaN</td>\n",
       "      <td>NaN</td>\n",
       "      <td>NaN</td>\n",
       "      <td>26514.0</td>\n",
       "      <td>[14, 28, 12]</td>\n",
       "      <td>381231.0</td>\n",
       "      <td>en</td>\n",
       "      <td>0.600</td>\n",
       "      <td>2018-10-01</td>\n",
       "      <td>The Last One</td>\n",
       "      <td>0.0</td>\n",
       "      <td>1.0</td>\n",
       "    </tr>\n",
       "    <tr>\n",
       "      <th>NaN</th>\n",
       "      <td>Trailer Made</td>\n",
       "      <td>NaN</td>\n",
       "      <td>NaN</td>\n",
       "      <td>NaN</td>\n",
       "      <td>NaN</td>\n",
       "      <td>NaN</td>\n",
       "      <td>NaN</td>\n",
       "      <td>NaN</td>\n",
       "      <td>NaN</td>\n",
       "      <td>26515.0</td>\n",
       "      <td>[10751, 12, 28]</td>\n",
       "      <td>366854.0</td>\n",
       "      <td>en</td>\n",
       "      <td>0.600</td>\n",
       "      <td>2018-06-22</td>\n",
       "      <td>Trailer Made</td>\n",
       "      <td>0.0</td>\n",
       "      <td>1.0</td>\n",
       "    </tr>\n",
       "    <tr>\n",
       "      <th>NaN</th>\n",
       "      <td>The Church</td>\n",
       "      <td>NaN</td>\n",
       "      <td>NaN</td>\n",
       "      <td>NaN</td>\n",
       "      <td>NaN</td>\n",
       "      <td>NaN</td>\n",
       "      <td>NaN</td>\n",
       "      <td>NaN</td>\n",
       "      <td>NaN</td>\n",
       "      <td>26516.0</td>\n",
       "      <td>[53, 27]</td>\n",
       "      <td>309885.0</td>\n",
       "      <td>en</td>\n",
       "      <td>0.600</td>\n",
       "      <td>2018-10-05</td>\n",
       "      <td>The Church</td>\n",
       "      <td>0.0</td>\n",
       "      <td>1.0</td>\n",
       "    </tr>\n",
       "  </tbody>\n",
       "</table>\n",
       "<p>27975 rows × 18 columns</p>\n",
       "</div>"
      ],
      "text/plain": [
       "                                             movie studio  domestic_gross  \\\n",
       "47.0                                   Toy Story 3     BV     415000000.0   \n",
       "NaN                     Alice in Wonderland (2010)     BV     334200000.0   \n",
       "NaN   Harry Potter and the Deathly Hallows: Part 1     WB     296000000.0   \n",
       "38.0                                     Inception     WB     292600000.0   \n",
       "27.0                           Shrek Forever After   P/DW     238700000.0   \n",
       "...                                            ...    ...             ...   \n",
       "NaN                          Laboratory Conditions    NaN             NaN   \n",
       "NaN                                _EXHIBIT_84xxx_    NaN             NaN   \n",
       "NaN                                   The Last One    NaN             NaN   \n",
       "NaN                                   Trailer Made    NaN             NaN   \n",
       "NaN                                     The Church    NaN             NaN   \n",
       "\n",
       "     foreign_gross    year release_date__  production_budget  \\\n",
       "47.0     652000000  2010.0   Jun 18, 2010        200000000.0   \n",
       "NaN      691300000  2010.0            NaN                NaN   \n",
       "NaN      664300000  2010.0            NaN                NaN   \n",
       "38.0     535700000  2010.0   Jul 16, 2010        160000000.0   \n",
       "27.0     513900000  2010.0   May 21, 2010        165000000.0   \n",
       "...            ...     ...            ...                ...   \n",
       "NaN            NaN     NaN            NaN                NaN   \n",
       "NaN            NaN     NaN            NaN                NaN   \n",
       "NaN            NaN     NaN            NaN                NaN   \n",
       "NaN            NaN     NaN            NaN                NaN   \n",
       "NaN            NaN     NaN            NaN                NaN   \n",
       "\n",
       "      domestic_gross___  worldwide_gross  Unnamed: 0                genre_ids  \\\n",
       "47.0        415004880.0     1.068880e+09         7.0          [16, 10751, 35]   \n",
       "NaN                 NaN              NaN         NaN                      NaN   \n",
       "NaN                 NaN              NaN         0.0          [12, 14, 10751]   \n",
       "38.0        292576195.0     8.355246e+08         4.0            [28, 878, 12]   \n",
       "27.0        238736787.0     7.562447e+08        38.0  [35, 12, 14, 16, 10751]   \n",
       "...                 ...              ...         ...                      ...   \n",
       "NaN                 NaN              NaN     26512.0                 [27, 18]   \n",
       "NaN                 NaN              NaN     26513.0                 [18, 53]   \n",
       "NaN                 NaN              NaN     26514.0             [14, 28, 12]   \n",
       "NaN                 NaN              NaN     26515.0          [10751, 12, 28]   \n",
       "NaN                 NaN              NaN     26516.0                 [53, 27]   \n",
       "\n",
       "            id original_language  popularity release_date  \\\n",
       "47.0   10193.0                en      24.445   2010-06-17   \n",
       "NaN        NaN               NaN         NaN          NaN   \n",
       "NaN    12444.0                en      33.533   2010-11-19   \n",
       "38.0   27205.0                en      27.920   2010-07-16   \n",
       "27.0   10192.0                en      15.041   2010-05-16   \n",
       "...        ...               ...         ...          ...   \n",
       "NaN   488143.0                en       0.600   2018-10-13   \n",
       "NaN   485975.0                en       0.600   2018-05-01   \n",
       "NaN   381231.0                en       0.600   2018-10-01   \n",
       "NaN   366854.0                en       0.600   2018-06-22   \n",
       "NaN   309885.0                en       0.600   2018-10-05   \n",
       "\n",
       "                                             title  vote_average  vote_count  \n",
       "47.0                                   Toy Story 3           7.7      8340.0  \n",
       "NaN                                            NaN           NaN         NaN  \n",
       "NaN   Harry Potter and the Deathly Hallows: Part 1           7.7     10788.0  \n",
       "38.0                                     Inception           8.3     22186.0  \n",
       "27.0                           Shrek Forever After           6.1      3843.0  \n",
       "...                                            ...           ...         ...  \n",
       "NaN                          Laboratory Conditions           0.0         1.0  \n",
       "NaN                                _EXHIBIT_84xxx_           0.0         1.0  \n",
       "NaN                                   The Last One           0.0         1.0  \n",
       "NaN                                   Trailer Made           0.0         1.0  \n",
       "NaN                                     The Church           0.0         1.0  \n",
       "\n",
       "[27975 rows x 18 columns]"
      ]
     },
     "execution_count": 11,
     "metadata": {},
     "output_type": "execute_result"
    }
   ],
   "source": [
    "movies_and_rating"
   ]
  },
  {
   "cell_type": "code",
   "execution_count": 12,
   "metadata": {},
   "outputs": [
    {
     "data": {
      "text/html": [
       "<div>\n",
       "<style scoped>\n",
       "    .dataframe tbody tr th:only-of-type {\n",
       "        vertical-align: middle;\n",
       "    }\n",
       "\n",
       "    .dataframe tbody tr th {\n",
       "        vertical-align: top;\n",
       "    }\n",
       "\n",
       "    .dataframe thead th {\n",
       "        text-align: right;\n",
       "    }\n",
       "</style>\n",
       "<table border=\"1\" class=\"dataframe\">\n",
       "  <thead>\n",
       "    <tr style=\"text-align: right;\">\n",
       "      <th></th>\n",
       "      <th>movie</th>\n",
       "      <th>studio</th>\n",
       "      <th>domestic_gross</th>\n",
       "      <th>foreign_gross</th>\n",
       "      <th>year</th>\n",
       "      <th>release_date__</th>\n",
       "      <th>production_budget</th>\n",
       "      <th>domestic_gross___</th>\n",
       "      <th>worldwide_gross</th>\n",
       "      <th>Unnamed: 0</th>\n",
       "      <th>genre_ids</th>\n",
       "      <th>id</th>\n",
       "      <th>original_language</th>\n",
       "      <th>popularity</th>\n",
       "      <th>release_date</th>\n",
       "      <th>title</th>\n",
       "      <th>vote_average</th>\n",
       "      <th>vote_count</th>\n",
       "    </tr>\n",
       "  </thead>\n",
       "  <tbody>\n",
       "    <tr>\n",
       "      <th>47.0</th>\n",
       "      <td>Toy Story 3</td>\n",
       "      <td>BV</td>\n",
       "      <td>415000000.0</td>\n",
       "      <td>652000000</td>\n",
       "      <td>2010.0</td>\n",
       "      <td>Jun 18, 2010</td>\n",
       "      <td>200000000.0</td>\n",
       "      <td>415004880.0</td>\n",
       "      <td>1.068880e+09</td>\n",
       "      <td>7.0</td>\n",
       "      <td>[16, 10751, 35]</td>\n",
       "      <td>10193.0</td>\n",
       "      <td>en</td>\n",
       "      <td>24.445</td>\n",
       "      <td>2010-06-17</td>\n",
       "      <td>Toy Story 3</td>\n",
       "      <td>7.7</td>\n",
       "      <td>8340.0</td>\n",
       "    </tr>\n",
       "    <tr>\n",
       "      <th>NaN</th>\n",
       "      <td>Alice in Wonderland (2010)</td>\n",
       "      <td>BV</td>\n",
       "      <td>334200000.0</td>\n",
       "      <td>691300000</td>\n",
       "      <td>2010.0</td>\n",
       "      <td>NaN</td>\n",
       "      <td>NaN</td>\n",
       "      <td>NaN</td>\n",
       "      <td>NaN</td>\n",
       "      <td>NaN</td>\n",
       "      <td>NaN</td>\n",
       "      <td>NaN</td>\n",
       "      <td>NaN</td>\n",
       "      <td>NaN</td>\n",
       "      <td>NaN</td>\n",
       "      <td>NaN</td>\n",
       "      <td>NaN</td>\n",
       "      <td>NaN</td>\n",
       "    </tr>\n",
       "    <tr>\n",
       "      <th>NaN</th>\n",
       "      <td>Harry Potter and the Deathly Hallows: Part 1</td>\n",
       "      <td>WB</td>\n",
       "      <td>296000000.0</td>\n",
       "      <td>664300000</td>\n",
       "      <td>2010.0</td>\n",
       "      <td>NaN</td>\n",
       "      <td>NaN</td>\n",
       "      <td>NaN</td>\n",
       "      <td>NaN</td>\n",
       "      <td>0.0</td>\n",
       "      <td>[12, 14, 10751]</td>\n",
       "      <td>12444.0</td>\n",
       "      <td>en</td>\n",
       "      <td>33.533</td>\n",
       "      <td>2010-11-19</td>\n",
       "      <td>Harry Potter and the Deathly Hallows: Part 1</td>\n",
       "      <td>7.7</td>\n",
       "      <td>10788.0</td>\n",
       "    </tr>\n",
       "    <tr>\n",
       "      <th>38.0</th>\n",
       "      <td>Inception</td>\n",
       "      <td>WB</td>\n",
       "      <td>292600000.0</td>\n",
       "      <td>535700000</td>\n",
       "      <td>2010.0</td>\n",
       "      <td>Jul 16, 2010</td>\n",
       "      <td>160000000.0</td>\n",
       "      <td>292576195.0</td>\n",
       "      <td>8.355246e+08</td>\n",
       "      <td>4.0</td>\n",
       "      <td>[28, 878, 12]</td>\n",
       "      <td>27205.0</td>\n",
       "      <td>en</td>\n",
       "      <td>27.920</td>\n",
       "      <td>2010-07-16</td>\n",
       "      <td>Inception</td>\n",
       "      <td>8.3</td>\n",
       "      <td>22186.0</td>\n",
       "    </tr>\n",
       "    <tr>\n",
       "      <th>27.0</th>\n",
       "      <td>Shrek Forever After</td>\n",
       "      <td>P/DW</td>\n",
       "      <td>238700000.0</td>\n",
       "      <td>513900000</td>\n",
       "      <td>2010.0</td>\n",
       "      <td>May 21, 2010</td>\n",
       "      <td>165000000.0</td>\n",
       "      <td>238736787.0</td>\n",
       "      <td>7.562447e+08</td>\n",
       "      <td>38.0</td>\n",
       "      <td>[35, 12, 14, 16, 10751]</td>\n",
       "      <td>10192.0</td>\n",
       "      <td>en</td>\n",
       "      <td>15.041</td>\n",
       "      <td>2010-05-16</td>\n",
       "      <td>Shrek Forever After</td>\n",
       "      <td>6.1</td>\n",
       "      <td>3843.0</td>\n",
       "    </tr>\n",
       "  </tbody>\n",
       "</table>\n",
       "</div>"
      ],
      "text/plain": [
       "                                             movie studio  domestic_gross  \\\n",
       "47.0                                   Toy Story 3     BV     415000000.0   \n",
       "NaN                     Alice in Wonderland (2010)     BV     334200000.0   \n",
       "NaN   Harry Potter and the Deathly Hallows: Part 1     WB     296000000.0   \n",
       "38.0                                     Inception     WB     292600000.0   \n",
       "27.0                           Shrek Forever After   P/DW     238700000.0   \n",
       "\n",
       "     foreign_gross    year release_date__  production_budget  \\\n",
       "47.0     652000000  2010.0   Jun 18, 2010        200000000.0   \n",
       "NaN      691300000  2010.0            NaN                NaN   \n",
       "NaN      664300000  2010.0            NaN                NaN   \n",
       "38.0     535700000  2010.0   Jul 16, 2010        160000000.0   \n",
       "27.0     513900000  2010.0   May 21, 2010        165000000.0   \n",
       "\n",
       "      domestic_gross___  worldwide_gross  Unnamed: 0                genre_ids  \\\n",
       "47.0        415004880.0     1.068880e+09         7.0          [16, 10751, 35]   \n",
       "NaN                 NaN              NaN         NaN                      NaN   \n",
       "NaN                 NaN              NaN         0.0          [12, 14, 10751]   \n",
       "38.0        292576195.0     8.355246e+08         4.0            [28, 878, 12]   \n",
       "27.0        238736787.0     7.562447e+08        38.0  [35, 12, 14, 16, 10751]   \n",
       "\n",
       "           id original_language  popularity release_date  \\\n",
       "47.0  10193.0                en      24.445   2010-06-17   \n",
       "NaN       NaN               NaN         NaN          NaN   \n",
       "NaN   12444.0                en      33.533   2010-11-19   \n",
       "38.0  27205.0                en      27.920   2010-07-16   \n",
       "27.0  10192.0                en      15.041   2010-05-16   \n",
       "\n",
       "                                             title  vote_average  vote_count  \n",
       "47.0                                   Toy Story 3           7.7      8340.0  \n",
       "NaN                                            NaN           NaN         NaN  \n",
       "NaN   Harry Potter and the Deathly Hallows: Part 1           7.7     10788.0  \n",
       "38.0                                     Inception           8.3     22186.0  \n",
       "27.0                           Shrek Forever After           6.1      3843.0  "
      ]
     },
     "execution_count": 12,
     "metadata": {},
     "output_type": "execute_result"
    }
   ],
   "source": [
    "movies_and_rating.head()\n"
   ]
  },
  {
   "cell_type": "code",
   "execution_count": 13,
   "metadata": {},
   "outputs": [],
   "source": [
    "#dropping unnecessary columns"
   ]
  },
  {
   "cell_type": "markdown",
   "metadata": {},
   "source": [
    "## Continue to clean data by dropping unused and/or redundant columns "
   ]
  },
  {
   "cell_type": "code",
   "execution_count": 14,
   "metadata": {},
   "outputs": [],
   "source": [
    "movies_and_rating.drop([\"Unnamed: 0\",'id','title', 'genre_ids', 'title'],  axis=1, inplace=True)\n"
   ]
  },
  {
   "cell_type": "code",
   "execution_count": 15,
   "metadata": {},
   "outputs": [],
   "source": [
    "movies_and_rating = movies_and_rating.set_index('movie')"
   ]
  },
  {
   "cell_type": "code",
   "execution_count": 16,
   "metadata": {},
   "outputs": [
    {
     "data": {
      "text/html": [
       "<div>\n",
       "<style scoped>\n",
       "    .dataframe tbody tr th:only-of-type {\n",
       "        vertical-align: middle;\n",
       "    }\n",
       "\n",
       "    .dataframe tbody tr th {\n",
       "        vertical-align: top;\n",
       "    }\n",
       "\n",
       "    .dataframe thead th {\n",
       "        text-align: right;\n",
       "    }\n",
       "</style>\n",
       "<table border=\"1\" class=\"dataframe\">\n",
       "  <thead>\n",
       "    <tr style=\"text-align: right;\">\n",
       "      <th></th>\n",
       "      <th>studio</th>\n",
       "      <th>domestic_gross</th>\n",
       "      <th>foreign_gross</th>\n",
       "      <th>year</th>\n",
       "      <th>release_date__</th>\n",
       "      <th>production_budget</th>\n",
       "      <th>domestic_gross___</th>\n",
       "      <th>worldwide_gross</th>\n",
       "      <th>original_language</th>\n",
       "      <th>popularity</th>\n",
       "      <th>release_date</th>\n",
       "      <th>vote_average</th>\n",
       "      <th>vote_count</th>\n",
       "    </tr>\n",
       "    <tr>\n",
       "      <th>movie</th>\n",
       "      <th></th>\n",
       "      <th></th>\n",
       "      <th></th>\n",
       "      <th></th>\n",
       "      <th></th>\n",
       "      <th></th>\n",
       "      <th></th>\n",
       "      <th></th>\n",
       "      <th></th>\n",
       "      <th></th>\n",
       "      <th></th>\n",
       "      <th></th>\n",
       "      <th></th>\n",
       "    </tr>\n",
       "  </thead>\n",
       "  <tbody>\n",
       "    <tr>\n",
       "      <th>Toy Story 3</th>\n",
       "      <td>BV</td>\n",
       "      <td>415000000.0</td>\n",
       "      <td>652000000</td>\n",
       "      <td>2010.0</td>\n",
       "      <td>Jun 18, 2010</td>\n",
       "      <td>200000000.0</td>\n",
       "      <td>415004880.0</td>\n",
       "      <td>1.068880e+09</td>\n",
       "      <td>en</td>\n",
       "      <td>24.445</td>\n",
       "      <td>2010-06-17</td>\n",
       "      <td>7.7</td>\n",
       "      <td>8340.0</td>\n",
       "    </tr>\n",
       "    <tr>\n",
       "      <th>Alice in Wonderland (2010)</th>\n",
       "      <td>BV</td>\n",
       "      <td>334200000.0</td>\n",
       "      <td>691300000</td>\n",
       "      <td>2010.0</td>\n",
       "      <td>NaN</td>\n",
       "      <td>NaN</td>\n",
       "      <td>NaN</td>\n",
       "      <td>NaN</td>\n",
       "      <td>NaN</td>\n",
       "      <td>NaN</td>\n",
       "      <td>NaN</td>\n",
       "      <td>NaN</td>\n",
       "      <td>NaN</td>\n",
       "    </tr>\n",
       "    <tr>\n",
       "      <th>Harry Potter and the Deathly Hallows: Part 1</th>\n",
       "      <td>WB</td>\n",
       "      <td>296000000.0</td>\n",
       "      <td>664300000</td>\n",
       "      <td>2010.0</td>\n",
       "      <td>NaN</td>\n",
       "      <td>NaN</td>\n",
       "      <td>NaN</td>\n",
       "      <td>NaN</td>\n",
       "      <td>en</td>\n",
       "      <td>33.533</td>\n",
       "      <td>2010-11-19</td>\n",
       "      <td>7.7</td>\n",
       "      <td>10788.0</td>\n",
       "    </tr>\n",
       "    <tr>\n",
       "      <th>Inception</th>\n",
       "      <td>WB</td>\n",
       "      <td>292600000.0</td>\n",
       "      <td>535700000</td>\n",
       "      <td>2010.0</td>\n",
       "      <td>Jul 16, 2010</td>\n",
       "      <td>160000000.0</td>\n",
       "      <td>292576195.0</td>\n",
       "      <td>8.355246e+08</td>\n",
       "      <td>en</td>\n",
       "      <td>27.920</td>\n",
       "      <td>2010-07-16</td>\n",
       "      <td>8.3</td>\n",
       "      <td>22186.0</td>\n",
       "    </tr>\n",
       "    <tr>\n",
       "      <th>Shrek Forever After</th>\n",
       "      <td>P/DW</td>\n",
       "      <td>238700000.0</td>\n",
       "      <td>513900000</td>\n",
       "      <td>2010.0</td>\n",
       "      <td>May 21, 2010</td>\n",
       "      <td>165000000.0</td>\n",
       "      <td>238736787.0</td>\n",
       "      <td>7.562447e+08</td>\n",
       "      <td>en</td>\n",
       "      <td>15.041</td>\n",
       "      <td>2010-05-16</td>\n",
       "      <td>6.1</td>\n",
       "      <td>3843.0</td>\n",
       "    </tr>\n",
       "    <tr>\n",
       "      <th>...</th>\n",
       "      <td>...</td>\n",
       "      <td>...</td>\n",
       "      <td>...</td>\n",
       "      <td>...</td>\n",
       "      <td>...</td>\n",
       "      <td>...</td>\n",
       "      <td>...</td>\n",
       "      <td>...</td>\n",
       "      <td>...</td>\n",
       "      <td>...</td>\n",
       "      <td>...</td>\n",
       "      <td>...</td>\n",
       "      <td>...</td>\n",
       "    </tr>\n",
       "    <tr>\n",
       "      <th>Laboratory Conditions</th>\n",
       "      <td>NaN</td>\n",
       "      <td>NaN</td>\n",
       "      <td>NaN</td>\n",
       "      <td>NaN</td>\n",
       "      <td>NaN</td>\n",
       "      <td>NaN</td>\n",
       "      <td>NaN</td>\n",
       "      <td>NaN</td>\n",
       "      <td>en</td>\n",
       "      <td>0.600</td>\n",
       "      <td>2018-10-13</td>\n",
       "      <td>0.0</td>\n",
       "      <td>1.0</td>\n",
       "    </tr>\n",
       "    <tr>\n",
       "      <th>_EXHIBIT_84xxx_</th>\n",
       "      <td>NaN</td>\n",
       "      <td>NaN</td>\n",
       "      <td>NaN</td>\n",
       "      <td>NaN</td>\n",
       "      <td>NaN</td>\n",
       "      <td>NaN</td>\n",
       "      <td>NaN</td>\n",
       "      <td>NaN</td>\n",
       "      <td>en</td>\n",
       "      <td>0.600</td>\n",
       "      <td>2018-05-01</td>\n",
       "      <td>0.0</td>\n",
       "      <td>1.0</td>\n",
       "    </tr>\n",
       "    <tr>\n",
       "      <th>The Last One</th>\n",
       "      <td>NaN</td>\n",
       "      <td>NaN</td>\n",
       "      <td>NaN</td>\n",
       "      <td>NaN</td>\n",
       "      <td>NaN</td>\n",
       "      <td>NaN</td>\n",
       "      <td>NaN</td>\n",
       "      <td>NaN</td>\n",
       "      <td>en</td>\n",
       "      <td>0.600</td>\n",
       "      <td>2018-10-01</td>\n",
       "      <td>0.0</td>\n",
       "      <td>1.0</td>\n",
       "    </tr>\n",
       "    <tr>\n",
       "      <th>Trailer Made</th>\n",
       "      <td>NaN</td>\n",
       "      <td>NaN</td>\n",
       "      <td>NaN</td>\n",
       "      <td>NaN</td>\n",
       "      <td>NaN</td>\n",
       "      <td>NaN</td>\n",
       "      <td>NaN</td>\n",
       "      <td>NaN</td>\n",
       "      <td>en</td>\n",
       "      <td>0.600</td>\n",
       "      <td>2018-06-22</td>\n",
       "      <td>0.0</td>\n",
       "      <td>1.0</td>\n",
       "    </tr>\n",
       "    <tr>\n",
       "      <th>The Church</th>\n",
       "      <td>NaN</td>\n",
       "      <td>NaN</td>\n",
       "      <td>NaN</td>\n",
       "      <td>NaN</td>\n",
       "      <td>NaN</td>\n",
       "      <td>NaN</td>\n",
       "      <td>NaN</td>\n",
       "      <td>NaN</td>\n",
       "      <td>en</td>\n",
       "      <td>0.600</td>\n",
       "      <td>2018-10-05</td>\n",
       "      <td>0.0</td>\n",
       "      <td>1.0</td>\n",
       "    </tr>\n",
       "  </tbody>\n",
       "</table>\n",
       "<p>27975 rows × 13 columns</p>\n",
       "</div>"
      ],
      "text/plain": [
       "                                             studio  domestic_gross  \\\n",
       "movie                                                                 \n",
       "Toy Story 3                                      BV     415000000.0   \n",
       "Alice in Wonderland (2010)                       BV     334200000.0   \n",
       "Harry Potter and the Deathly Hallows: Part 1     WB     296000000.0   \n",
       "Inception                                        WB     292600000.0   \n",
       "Shrek Forever After                            P/DW     238700000.0   \n",
       "...                                             ...             ...   \n",
       "Laboratory Conditions                           NaN             NaN   \n",
       "_EXHIBIT_84xxx_                                 NaN             NaN   \n",
       "The Last One                                    NaN             NaN   \n",
       "Trailer Made                                    NaN             NaN   \n",
       "The Church                                      NaN             NaN   \n",
       "\n",
       "                                             foreign_gross    year  \\\n",
       "movie                                                                \n",
       "Toy Story 3                                      652000000  2010.0   \n",
       "Alice in Wonderland (2010)                       691300000  2010.0   \n",
       "Harry Potter and the Deathly Hallows: Part 1     664300000  2010.0   \n",
       "Inception                                        535700000  2010.0   \n",
       "Shrek Forever After                              513900000  2010.0   \n",
       "...                                                    ...     ...   \n",
       "Laboratory Conditions                                  NaN     NaN   \n",
       "_EXHIBIT_84xxx_                                        NaN     NaN   \n",
       "The Last One                                           NaN     NaN   \n",
       "Trailer Made                                           NaN     NaN   \n",
       "The Church                                             NaN     NaN   \n",
       "\n",
       "                                             release_date__  \\\n",
       "movie                                                         \n",
       "Toy Story 3                                    Jun 18, 2010   \n",
       "Alice in Wonderland (2010)                              NaN   \n",
       "Harry Potter and the Deathly Hallows: Part 1            NaN   \n",
       "Inception                                      Jul 16, 2010   \n",
       "Shrek Forever After                            May 21, 2010   \n",
       "...                                                     ...   \n",
       "Laboratory Conditions                                   NaN   \n",
       "_EXHIBIT_84xxx_                                         NaN   \n",
       "The Last One                                            NaN   \n",
       "Trailer Made                                            NaN   \n",
       "The Church                                              NaN   \n",
       "\n",
       "                                              production_budget  \\\n",
       "movie                                                             \n",
       "Toy Story 3                                         200000000.0   \n",
       "Alice in Wonderland (2010)                                  NaN   \n",
       "Harry Potter and the Deathly Hallows: Part 1                NaN   \n",
       "Inception                                           160000000.0   \n",
       "Shrek Forever After                                 165000000.0   \n",
       "...                                                         ...   \n",
       "Laboratory Conditions                                       NaN   \n",
       "_EXHIBIT_84xxx_                                             NaN   \n",
       "The Last One                                                NaN   \n",
       "Trailer Made                                                NaN   \n",
       "The Church                                                  NaN   \n",
       "\n",
       "                                              domestic_gross___  \\\n",
       "movie                                                             \n",
       "Toy Story 3                                         415004880.0   \n",
       "Alice in Wonderland (2010)                                  NaN   \n",
       "Harry Potter and the Deathly Hallows: Part 1                NaN   \n",
       "Inception                                           292576195.0   \n",
       "Shrek Forever After                                 238736787.0   \n",
       "...                                                         ...   \n",
       "Laboratory Conditions                                       NaN   \n",
       "_EXHIBIT_84xxx_                                             NaN   \n",
       "The Last One                                                NaN   \n",
       "Trailer Made                                                NaN   \n",
       "The Church                                                  NaN   \n",
       "\n",
       "                                              worldwide_gross  \\\n",
       "movie                                                           \n",
       "Toy Story 3                                      1.068880e+09   \n",
       "Alice in Wonderland (2010)                                NaN   \n",
       "Harry Potter and the Deathly Hallows: Part 1              NaN   \n",
       "Inception                                        8.355246e+08   \n",
       "Shrek Forever After                              7.562447e+08   \n",
       "...                                                       ...   \n",
       "Laboratory Conditions                                     NaN   \n",
       "_EXHIBIT_84xxx_                                           NaN   \n",
       "The Last One                                              NaN   \n",
       "Trailer Made                                              NaN   \n",
       "The Church                                                NaN   \n",
       "\n",
       "                                             original_language  popularity  \\\n",
       "movie                                                                        \n",
       "Toy Story 3                                                 en      24.445   \n",
       "Alice in Wonderland (2010)                                 NaN         NaN   \n",
       "Harry Potter and the Deathly Hallows: Part 1                en      33.533   \n",
       "Inception                                                   en      27.920   \n",
       "Shrek Forever After                                         en      15.041   \n",
       "...                                                        ...         ...   \n",
       "Laboratory Conditions                                       en       0.600   \n",
       "_EXHIBIT_84xxx_                                             en       0.600   \n",
       "The Last One                                                en       0.600   \n",
       "Trailer Made                                                en       0.600   \n",
       "The Church                                                  en       0.600   \n",
       "\n",
       "                                             release_date  vote_average  \\\n",
       "movie                                                                     \n",
       "Toy Story 3                                    2010-06-17           7.7   \n",
       "Alice in Wonderland (2010)                            NaN           NaN   \n",
       "Harry Potter and the Deathly Hallows: Part 1   2010-11-19           7.7   \n",
       "Inception                                      2010-07-16           8.3   \n",
       "Shrek Forever After                            2010-05-16           6.1   \n",
       "...                                                   ...           ...   \n",
       "Laboratory Conditions                          2018-10-13           0.0   \n",
       "_EXHIBIT_84xxx_                                2018-05-01           0.0   \n",
       "The Last One                                   2018-10-01           0.0   \n",
       "Trailer Made                                   2018-06-22           0.0   \n",
       "The Church                                     2018-10-05           0.0   \n",
       "\n",
       "                                              vote_count  \n",
       "movie                                                     \n",
       "Toy Story 3                                       8340.0  \n",
       "Alice in Wonderland (2010)                           NaN  \n",
       "Harry Potter and the Deathly Hallows: Part 1     10788.0  \n",
       "Inception                                        22186.0  \n",
       "Shrek Forever After                               3843.0  \n",
       "...                                                  ...  \n",
       "Laboratory Conditions                                1.0  \n",
       "_EXHIBIT_84xxx_                                      1.0  \n",
       "The Last One                                         1.0  \n",
       "Trailer Made                                         1.0  \n",
       "The Church                                           1.0  \n",
       "\n",
       "[27975 rows x 13 columns]"
      ]
     },
     "execution_count": 16,
     "metadata": {},
     "output_type": "execute_result"
    }
   ],
   "source": [
    "movies_and_rating"
   ]
  },
  {
   "cell_type": "code",
   "execution_count": 17,
   "metadata": {},
   "outputs": [],
   "source": [
    "#dropping movies that don't have enough information to be of use"
   ]
  },
  {
   "cell_type": "markdown",
   "metadata": {},
   "source": [
    "## Dropping Na's from the dataset using 6 empty columns in a row as the threshold\n",
    "We found that at this threshold we can complete the necessary calculations and visualizations with still enough datapoints. \n",
    "At a higher threshold there are a lot of entries that only have a couple columns worth of data and these were not valuable to the insights that we created"
   ]
  },
  {
   "cell_type": "code",
   "execution_count": 18,
   "metadata": {},
   "outputs": [],
   "source": [
    "movies_and_rating.dropna(axis = 0, thresh = 6, inplace = True)\n",
    "\n",
    "\n",
    "\n"
   ]
  },
  {
   "cell_type": "code",
   "execution_count": 19,
   "metadata": {},
   "outputs": [
    {
     "data": {
      "text/html": [
       "<div>\n",
       "<style scoped>\n",
       "    .dataframe tbody tr th:only-of-type {\n",
       "        vertical-align: middle;\n",
       "    }\n",
       "\n",
       "    .dataframe tbody tr th {\n",
       "        vertical-align: top;\n",
       "    }\n",
       "\n",
       "    .dataframe thead th {\n",
       "        text-align: right;\n",
       "    }\n",
       "</style>\n",
       "<table border=\"1\" class=\"dataframe\">\n",
       "  <thead>\n",
       "    <tr style=\"text-align: right;\">\n",
       "      <th></th>\n",
       "      <th>studio</th>\n",
       "      <th>domestic_gross</th>\n",
       "      <th>foreign_gross</th>\n",
       "      <th>year</th>\n",
       "      <th>release_date__</th>\n",
       "      <th>production_budget</th>\n",
       "      <th>domestic_gross___</th>\n",
       "      <th>worldwide_gross</th>\n",
       "      <th>original_language</th>\n",
       "      <th>popularity</th>\n",
       "      <th>release_date</th>\n",
       "      <th>vote_average</th>\n",
       "      <th>vote_count</th>\n",
       "    </tr>\n",
       "    <tr>\n",
       "      <th>movie</th>\n",
       "      <th></th>\n",
       "      <th></th>\n",
       "      <th></th>\n",
       "      <th></th>\n",
       "      <th></th>\n",
       "      <th></th>\n",
       "      <th></th>\n",
       "      <th></th>\n",
       "      <th></th>\n",
       "      <th></th>\n",
       "      <th></th>\n",
       "      <th></th>\n",
       "      <th></th>\n",
       "    </tr>\n",
       "  </thead>\n",
       "  <tbody>\n",
       "    <tr>\n",
       "      <th>Toy Story 3</th>\n",
       "      <td>BV</td>\n",
       "      <td>415000000.0</td>\n",
       "      <td>652000000</td>\n",
       "      <td>2010.0</td>\n",
       "      <td>Jun 18, 2010</td>\n",
       "      <td>200000000.0</td>\n",
       "      <td>415004880.0</td>\n",
       "      <td>1.068880e+09</td>\n",
       "      <td>en</td>\n",
       "      <td>24.445</td>\n",
       "      <td>2010-06-17</td>\n",
       "      <td>7.7</td>\n",
       "      <td>8340.0</td>\n",
       "    </tr>\n",
       "    <tr>\n",
       "      <th>Harry Potter and the Deathly Hallows: Part 1</th>\n",
       "      <td>WB</td>\n",
       "      <td>296000000.0</td>\n",
       "      <td>664300000</td>\n",
       "      <td>2010.0</td>\n",
       "      <td>NaN</td>\n",
       "      <td>NaN</td>\n",
       "      <td>NaN</td>\n",
       "      <td>NaN</td>\n",
       "      <td>en</td>\n",
       "      <td>33.533</td>\n",
       "      <td>2010-11-19</td>\n",
       "      <td>7.7</td>\n",
       "      <td>10788.0</td>\n",
       "    </tr>\n",
       "    <tr>\n",
       "      <th>Inception</th>\n",
       "      <td>WB</td>\n",
       "      <td>292600000.0</td>\n",
       "      <td>535700000</td>\n",
       "      <td>2010.0</td>\n",
       "      <td>Jul 16, 2010</td>\n",
       "      <td>160000000.0</td>\n",
       "      <td>292576195.0</td>\n",
       "      <td>8.355246e+08</td>\n",
       "      <td>en</td>\n",
       "      <td>27.920</td>\n",
       "      <td>2010-07-16</td>\n",
       "      <td>8.3</td>\n",
       "      <td>22186.0</td>\n",
       "    </tr>\n",
       "    <tr>\n",
       "      <th>Shrek Forever After</th>\n",
       "      <td>P/DW</td>\n",
       "      <td>238700000.0</td>\n",
       "      <td>513900000</td>\n",
       "      <td>2010.0</td>\n",
       "      <td>May 21, 2010</td>\n",
       "      <td>165000000.0</td>\n",
       "      <td>238736787.0</td>\n",
       "      <td>7.562447e+08</td>\n",
       "      <td>en</td>\n",
       "      <td>15.041</td>\n",
       "      <td>2010-05-16</td>\n",
       "      <td>6.1</td>\n",
       "      <td>3843.0</td>\n",
       "    </tr>\n",
       "    <tr>\n",
       "      <th>The Twilight Saga: Eclipse</th>\n",
       "      <td>Sum.</td>\n",
       "      <td>300500000.0</td>\n",
       "      <td>398000000</td>\n",
       "      <td>2010.0</td>\n",
       "      <td>Jun 30, 2010</td>\n",
       "      <td>68000000.0</td>\n",
       "      <td>300531751.0</td>\n",
       "      <td>7.061028e+08</td>\n",
       "      <td>en</td>\n",
       "      <td>20.340</td>\n",
       "      <td>2010-06-23</td>\n",
       "      <td>6.0</td>\n",
       "      <td>4909.0</td>\n",
       "    </tr>\n",
       "    <tr>\n",
       "      <th>...</th>\n",
       "      <td>...</td>\n",
       "      <td>...</td>\n",
       "      <td>...</td>\n",
       "      <td>...</td>\n",
       "      <td>...</td>\n",
       "      <td>...</td>\n",
       "      <td>...</td>\n",
       "      <td>...</td>\n",
       "      <td>...</td>\n",
       "      <td>...</td>\n",
       "      <td>...</td>\n",
       "      <td>...</td>\n",
       "      <td>...</td>\n",
       "    </tr>\n",
       "    <tr>\n",
       "      <th>Loving Pablo</th>\n",
       "      <td>Uni.</td>\n",
       "      <td>22000.0</td>\n",
       "      <td>NaN</td>\n",
       "      <td>2018.0</td>\n",
       "      <td>NaN</td>\n",
       "      <td>NaN</td>\n",
       "      <td>NaN</td>\n",
       "      <td>NaN</td>\n",
       "      <td>es</td>\n",
       "      <td>12.937</td>\n",
       "      <td>2018-06-15</td>\n",
       "      <td>6.1</td>\n",
       "      <td>505.0</td>\n",
       "    </tr>\n",
       "    <tr>\n",
       "      <th>The Escape</th>\n",
       "      <td>IFC</td>\n",
       "      <td>14000.0</td>\n",
       "      <td>NaN</td>\n",
       "      <td>2018.0</td>\n",
       "      <td>NaN</td>\n",
       "      <td>NaN</td>\n",
       "      <td>NaN</td>\n",
       "      <td>NaN</td>\n",
       "      <td>en</td>\n",
       "      <td>0.600</td>\n",
       "      <td>2015-08-14</td>\n",
       "      <td>7.0</td>\n",
       "      <td>1.0</td>\n",
       "    </tr>\n",
       "    <tr>\n",
       "      <th>The Escape</th>\n",
       "      <td>IFC</td>\n",
       "      <td>14000.0</td>\n",
       "      <td>NaN</td>\n",
       "      <td>2018.0</td>\n",
       "      <td>NaN</td>\n",
       "      <td>NaN</td>\n",
       "      <td>NaN</td>\n",
       "      <td>NaN</td>\n",
       "      <td>en</td>\n",
       "      <td>1.176</td>\n",
       "      <td>2016-10-23</td>\n",
       "      <td>6.6</td>\n",
       "      <td>10.0</td>\n",
       "    </tr>\n",
       "    <tr>\n",
       "      <th>Souvenir</th>\n",
       "      <td>Strand</td>\n",
       "      <td>11400.0</td>\n",
       "      <td>NaN</td>\n",
       "      <td>2018.0</td>\n",
       "      <td>NaN</td>\n",
       "      <td>NaN</td>\n",
       "      <td>NaN</td>\n",
       "      <td>NaN</td>\n",
       "      <td>fr</td>\n",
       "      <td>2.130</td>\n",
       "      <td>2016-09-08</td>\n",
       "      <td>5.8</td>\n",
       "      <td>14.0</td>\n",
       "    </tr>\n",
       "    <tr>\n",
       "      <th>An Actor Prepares</th>\n",
       "      <td>Grav.</td>\n",
       "      <td>1700.0</td>\n",
       "      <td>NaN</td>\n",
       "      <td>2018.0</td>\n",
       "      <td>NaN</td>\n",
       "      <td>NaN</td>\n",
       "      <td>NaN</td>\n",
       "      <td>NaN</td>\n",
       "      <td>en</td>\n",
       "      <td>7.244</td>\n",
       "      <td>2018-08-31</td>\n",
       "      <td>6.5</td>\n",
       "      <td>10.0</td>\n",
       "    </tr>\n",
       "  </tbody>\n",
       "</table>\n",
       "<p>2374 rows × 13 columns</p>\n",
       "</div>"
      ],
      "text/plain": [
       "                                              studio  domestic_gross  \\\n",
       "movie                                                                  \n",
       "Toy Story 3                                       BV     415000000.0   \n",
       "Harry Potter and the Deathly Hallows: Part 1      WB     296000000.0   \n",
       "Inception                                         WB     292600000.0   \n",
       "Shrek Forever After                             P/DW     238700000.0   \n",
       "The Twilight Saga: Eclipse                      Sum.     300500000.0   \n",
       "...                                              ...             ...   \n",
       "Loving Pablo                                    Uni.         22000.0   \n",
       "The Escape                                       IFC         14000.0   \n",
       "The Escape                                       IFC         14000.0   \n",
       "Souvenir                                      Strand         11400.0   \n",
       "An Actor Prepares                              Grav.          1700.0   \n",
       "\n",
       "                                             foreign_gross    year  \\\n",
       "movie                                                                \n",
       "Toy Story 3                                      652000000  2010.0   \n",
       "Harry Potter and the Deathly Hallows: Part 1     664300000  2010.0   \n",
       "Inception                                        535700000  2010.0   \n",
       "Shrek Forever After                              513900000  2010.0   \n",
       "The Twilight Saga: Eclipse                       398000000  2010.0   \n",
       "...                                                    ...     ...   \n",
       "Loving Pablo                                           NaN  2018.0   \n",
       "The Escape                                             NaN  2018.0   \n",
       "The Escape                                             NaN  2018.0   \n",
       "Souvenir                                               NaN  2018.0   \n",
       "An Actor Prepares                                      NaN  2018.0   \n",
       "\n",
       "                                             release_date__  \\\n",
       "movie                                                         \n",
       "Toy Story 3                                    Jun 18, 2010   \n",
       "Harry Potter and the Deathly Hallows: Part 1            NaN   \n",
       "Inception                                      Jul 16, 2010   \n",
       "Shrek Forever After                            May 21, 2010   \n",
       "The Twilight Saga: Eclipse                     Jun 30, 2010   \n",
       "...                                                     ...   \n",
       "Loving Pablo                                            NaN   \n",
       "The Escape                                              NaN   \n",
       "The Escape                                              NaN   \n",
       "Souvenir                                                NaN   \n",
       "An Actor Prepares                                       NaN   \n",
       "\n",
       "                                              production_budget  \\\n",
       "movie                                                             \n",
       "Toy Story 3                                         200000000.0   \n",
       "Harry Potter and the Deathly Hallows: Part 1                NaN   \n",
       "Inception                                           160000000.0   \n",
       "Shrek Forever After                                 165000000.0   \n",
       "The Twilight Saga: Eclipse                           68000000.0   \n",
       "...                                                         ...   \n",
       "Loving Pablo                                                NaN   \n",
       "The Escape                                                  NaN   \n",
       "The Escape                                                  NaN   \n",
       "Souvenir                                                    NaN   \n",
       "An Actor Prepares                                           NaN   \n",
       "\n",
       "                                              domestic_gross___  \\\n",
       "movie                                                             \n",
       "Toy Story 3                                         415004880.0   \n",
       "Harry Potter and the Deathly Hallows: Part 1                NaN   \n",
       "Inception                                           292576195.0   \n",
       "Shrek Forever After                                 238736787.0   \n",
       "The Twilight Saga: Eclipse                          300531751.0   \n",
       "...                                                         ...   \n",
       "Loving Pablo                                                NaN   \n",
       "The Escape                                                  NaN   \n",
       "The Escape                                                  NaN   \n",
       "Souvenir                                                    NaN   \n",
       "An Actor Prepares                                           NaN   \n",
       "\n",
       "                                              worldwide_gross  \\\n",
       "movie                                                           \n",
       "Toy Story 3                                      1.068880e+09   \n",
       "Harry Potter and the Deathly Hallows: Part 1              NaN   \n",
       "Inception                                        8.355246e+08   \n",
       "Shrek Forever After                              7.562447e+08   \n",
       "The Twilight Saga: Eclipse                       7.061028e+08   \n",
       "...                                                       ...   \n",
       "Loving Pablo                                              NaN   \n",
       "The Escape                                                NaN   \n",
       "The Escape                                                NaN   \n",
       "Souvenir                                                  NaN   \n",
       "An Actor Prepares                                         NaN   \n",
       "\n",
       "                                             original_language  popularity  \\\n",
       "movie                                                                        \n",
       "Toy Story 3                                                 en      24.445   \n",
       "Harry Potter and the Deathly Hallows: Part 1                en      33.533   \n",
       "Inception                                                   en      27.920   \n",
       "Shrek Forever After                                         en      15.041   \n",
       "The Twilight Saga: Eclipse                                  en      20.340   \n",
       "...                                                        ...         ...   \n",
       "Loving Pablo                                                es      12.937   \n",
       "The Escape                                                  en       0.600   \n",
       "The Escape                                                  en       1.176   \n",
       "Souvenir                                                    fr       2.130   \n",
       "An Actor Prepares                                           en       7.244   \n",
       "\n",
       "                                             release_date  vote_average  \\\n",
       "movie                                                                     \n",
       "Toy Story 3                                    2010-06-17           7.7   \n",
       "Harry Potter and the Deathly Hallows: Part 1   2010-11-19           7.7   \n",
       "Inception                                      2010-07-16           8.3   \n",
       "Shrek Forever After                            2010-05-16           6.1   \n",
       "The Twilight Saga: Eclipse                     2010-06-23           6.0   \n",
       "...                                                   ...           ...   \n",
       "Loving Pablo                                   2018-06-15           6.1   \n",
       "The Escape                                     2015-08-14           7.0   \n",
       "The Escape                                     2016-10-23           6.6   \n",
       "Souvenir                                       2016-09-08           5.8   \n",
       "An Actor Prepares                              2018-08-31           6.5   \n",
       "\n",
       "                                              vote_count  \n",
       "movie                                                     \n",
       "Toy Story 3                                       8340.0  \n",
       "Harry Potter and the Deathly Hallows: Part 1     10788.0  \n",
       "Inception                                        22186.0  \n",
       "Shrek Forever After                               3843.0  \n",
       "The Twilight Saga: Eclipse                        4909.0  \n",
       "...                                                  ...  \n",
       "Loving Pablo                                       505.0  \n",
       "The Escape                                           1.0  \n",
       "The Escape                                          10.0  \n",
       "Souvenir                                            14.0  \n",
       "An Actor Prepares                                   10.0  \n",
       "\n",
       "[2374 rows x 13 columns]"
      ]
     },
     "execution_count": 19,
     "metadata": {},
     "output_type": "execute_result"
    }
   ],
   "source": [
    "movies_and_rating"
   ]
  },
  {
   "cell_type": "markdown",
   "metadata": {},
   "source": [
    "# Pulling in the imdb ratings using sql\n",
    "\n",
    "## Merge the desired columns from the tables of interest and prepare for joinging into the master dataset"
   ]
  },
  {
   "cell_type": "code",
   "execution_count": 20,
   "metadata": {},
   "outputs": [
    {
     "data": {
      "text/plain": [
       "<sqlite3.Cursor at 0x15b86d15c00>"
      ]
     },
     "execution_count": 20,
     "metadata": {},
     "output_type": "execute_result"
    }
   ],
   "source": [
    "with zipfile.ZipFile(\"zippedData/im.db.zip\", 'r') as imdb_zip:\n",
    "    imdb_zip.extractall(\"zippedData\")\n",
    "conn = sqlite3.connect('zippedData/im.db')\n",
    "cur = conn.cursor()\n",
    "cur.execute(\"\"\"SELECT name FROM sqlite_master WHERE type = 'table';\"\"\")"
   ]
  },
  {
   "cell_type": "code",
   "execution_count": 21,
   "metadata": {},
   "outputs": [],
   "source": [
    "movie_basics = pd.DataFrame(\n",
    "    data=cur.execute(\"\"\"SELECT * FROM movie_basics;\"\"\").fetchall(),\n",
    "    columns=[x[0] for x in cur.description]\n",
    ")"
   ]
  },
  {
   "cell_type": "code",
   "execution_count": 22,
   "metadata": {},
   "outputs": [],
   "source": [
    "movie_ratings = pd.DataFrame(\n",
    "    data=cur.execute(\"\"\"SELECT * FROM movie_ratings;\"\"\").fetchall(),\n",
    "    columns=[x[0] for x in cur.description]\n",
    ")"
   ]
  },
  {
   "cell_type": "code",
   "execution_count": 23,
   "metadata": {},
   "outputs": [
    {
     "data": {
      "text/html": [
       "<div>\n",
       "<style scoped>\n",
       "    .dataframe tbody tr th:only-of-type {\n",
       "        vertical-align: middle;\n",
       "    }\n",
       "\n",
       "    .dataframe tbody tr th {\n",
       "        vertical-align: top;\n",
       "    }\n",
       "\n",
       "    .dataframe thead th {\n",
       "        text-align: right;\n",
       "    }\n",
       "</style>\n",
       "<table border=\"1\" class=\"dataframe\">\n",
       "  <thead>\n",
       "    <tr style=\"text-align: right;\">\n",
       "      <th></th>\n",
       "      <th>movie_id</th>\n",
       "      <th>averagerating</th>\n",
       "      <th>numvotes</th>\n",
       "      <th>original_title</th>\n",
       "      <th>start_year</th>\n",
       "      <th>runtime_minutes</th>\n",
       "      <th>genres</th>\n",
       "    </tr>\n",
       "    <tr>\n",
       "      <th>movie</th>\n",
       "      <th></th>\n",
       "      <th></th>\n",
       "      <th></th>\n",
       "      <th></th>\n",
       "      <th></th>\n",
       "      <th></th>\n",
       "      <th></th>\n",
       "    </tr>\n",
       "  </thead>\n",
       "  <tbody>\n",
       "    <tr>\n",
       "      <th>Laiye Je Yaarian</th>\n",
       "      <td>tt10356526</td>\n",
       "      <td>8.3</td>\n",
       "      <td>31</td>\n",
       "      <td>Laiye Je Yaarian</td>\n",
       "      <td>2019</td>\n",
       "      <td>117.0</td>\n",
       "      <td>Romance</td>\n",
       "    </tr>\n",
       "    <tr>\n",
       "      <th>Borderless</th>\n",
       "      <td>tt10384606</td>\n",
       "      <td>8.9</td>\n",
       "      <td>559</td>\n",
       "      <td>Borderless</td>\n",
       "      <td>2019</td>\n",
       "      <td>87.0</td>\n",
       "      <td>Documentary</td>\n",
       "    </tr>\n",
       "    <tr>\n",
       "      <th>Just Inès</th>\n",
       "      <td>tt1042974</td>\n",
       "      <td>6.4</td>\n",
       "      <td>20</td>\n",
       "      <td>Just Inès</td>\n",
       "      <td>2010</td>\n",
       "      <td>90.0</td>\n",
       "      <td>Drama</td>\n",
       "    </tr>\n",
       "    <tr>\n",
       "      <th>The Legend of Hercules</th>\n",
       "      <td>tt1043726</td>\n",
       "      <td>4.2</td>\n",
       "      <td>50352</td>\n",
       "      <td>The Legend of Hercules</td>\n",
       "      <td>2014</td>\n",
       "      <td>99.0</td>\n",
       "      <td>Action,Adventure,Fantasy</td>\n",
       "    </tr>\n",
       "    <tr>\n",
       "      <th>Até Onde?</th>\n",
       "      <td>tt1060240</td>\n",
       "      <td>6.5</td>\n",
       "      <td>21</td>\n",
       "      <td>Até Onde?</td>\n",
       "      <td>2011</td>\n",
       "      <td>73.0</td>\n",
       "      <td>Mystery,Thriller</td>\n",
       "    </tr>\n",
       "    <tr>\n",
       "      <th>...</th>\n",
       "      <td>...</td>\n",
       "      <td>...</td>\n",
       "      <td>...</td>\n",
       "      <td>...</td>\n",
       "      <td>...</td>\n",
       "      <td>...</td>\n",
       "      <td>...</td>\n",
       "    </tr>\n",
       "    <tr>\n",
       "      <th>Caisa</th>\n",
       "      <td>tt9805820</td>\n",
       "      <td>8.1</td>\n",
       "      <td>25</td>\n",
       "      <td>Caisa</td>\n",
       "      <td>2018</td>\n",
       "      <td>84.0</td>\n",
       "      <td>Documentary</td>\n",
       "    </tr>\n",
       "    <tr>\n",
       "      <th>Code Geass: Lelouch of the Rebellion - Glorification</th>\n",
       "      <td>tt9844256</td>\n",
       "      <td>7.5</td>\n",
       "      <td>24</td>\n",
       "      <td>Code Geass: Lelouch of the Rebellion Episode III</td>\n",
       "      <td>2018</td>\n",
       "      <td>120.0</td>\n",
       "      <td>Action,Animation,Sci-Fi</td>\n",
       "    </tr>\n",
       "    <tr>\n",
       "      <th>Sisters</th>\n",
       "      <td>tt9851050</td>\n",
       "      <td>4.7</td>\n",
       "      <td>14</td>\n",
       "      <td>Sisters</td>\n",
       "      <td>2019</td>\n",
       "      <td>NaN</td>\n",
       "      <td>Action,Drama</td>\n",
       "    </tr>\n",
       "    <tr>\n",
       "      <th>The Projectionist</th>\n",
       "      <td>tt9886934</td>\n",
       "      <td>7.0</td>\n",
       "      <td>5</td>\n",
       "      <td>The Projectionist</td>\n",
       "      <td>2019</td>\n",
       "      <td>81.0</td>\n",
       "      <td>Documentary</td>\n",
       "    </tr>\n",
       "    <tr>\n",
       "      <th>Sathru</th>\n",
       "      <td>tt9894098</td>\n",
       "      <td>6.3</td>\n",
       "      <td>128</td>\n",
       "      <td>Sathru</td>\n",
       "      <td>2019</td>\n",
       "      <td>129.0</td>\n",
       "      <td>Thriller</td>\n",
       "    </tr>\n",
       "  </tbody>\n",
       "</table>\n",
       "<p>73856 rows × 7 columns</p>\n",
       "</div>"
      ],
      "text/plain": [
       "                                                      movie_id  averagerating  \\\n",
       "movie                                                                           \n",
       "Laiye Je Yaarian                                    tt10356526            8.3   \n",
       "Borderless                                          tt10384606            8.9   \n",
       "Just Inès                                            tt1042974            6.4   \n",
       "The Legend of Hercules                               tt1043726            4.2   \n",
       "Até Onde?                                            tt1060240            6.5   \n",
       "...                                                        ...            ...   \n",
       "Caisa                                                tt9805820            8.1   \n",
       "Code Geass: Lelouch of the Rebellion - Glorific...   tt9844256            7.5   \n",
       "Sisters                                              tt9851050            4.7   \n",
       "The Projectionist                                    tt9886934            7.0   \n",
       "Sathru                                               tt9894098            6.3   \n",
       "\n",
       "                                                    numvotes  \\\n",
       "movie                                                          \n",
       "Laiye Je Yaarian                                          31   \n",
       "Borderless                                               559   \n",
       "Just Inès                                                 20   \n",
       "The Legend of Hercules                                 50352   \n",
       "Até Onde?                                                 21   \n",
       "...                                                      ...   \n",
       "Caisa                                                     25   \n",
       "Code Geass: Lelouch of the Rebellion - Glorific...        24   \n",
       "Sisters                                                   14   \n",
       "The Projectionist                                          5   \n",
       "Sathru                                                   128   \n",
       "\n",
       "                                                                                      original_title  \\\n",
       "movie                                                                                                  \n",
       "Laiye Je Yaarian                                                                    Laiye Je Yaarian   \n",
       "Borderless                                                                                Borderless   \n",
       "Just Inès                                                                                  Just Inès   \n",
       "The Legend of Hercules                                                        The Legend of Hercules   \n",
       "Até Onde?                                                                                  Até Onde?   \n",
       "...                                                                                              ...   \n",
       "Caisa                                                                                          Caisa   \n",
       "Code Geass: Lelouch of the Rebellion - Glorific...  Code Geass: Lelouch of the Rebellion Episode III   \n",
       "Sisters                                                                                      Sisters   \n",
       "The Projectionist                                                                  The Projectionist   \n",
       "Sathru                                                                                        Sathru   \n",
       "\n",
       "                                                    start_year  \\\n",
       "movie                                                            \n",
       "Laiye Je Yaarian                                          2019   \n",
       "Borderless                                                2019   \n",
       "Just Inès                                                 2010   \n",
       "The Legend of Hercules                                    2014   \n",
       "Até Onde?                                                 2011   \n",
       "...                                                        ...   \n",
       "Caisa                                                     2018   \n",
       "Code Geass: Lelouch of the Rebellion - Glorific...        2018   \n",
       "Sisters                                                   2019   \n",
       "The Projectionist                                         2019   \n",
       "Sathru                                                    2019   \n",
       "\n",
       "                                                    runtime_minutes  \\\n",
       "movie                                                                 \n",
       "Laiye Je Yaarian                                              117.0   \n",
       "Borderless                                                     87.0   \n",
       "Just Inès                                                      90.0   \n",
       "The Legend of Hercules                                         99.0   \n",
       "Até Onde?                                                      73.0   \n",
       "...                                                             ...   \n",
       "Caisa                                                          84.0   \n",
       "Code Geass: Lelouch of the Rebellion - Glorific...            120.0   \n",
       "Sisters                                                         NaN   \n",
       "The Projectionist                                              81.0   \n",
       "Sathru                                                        129.0   \n",
       "\n",
       "                                                                      genres  \n",
       "movie                                                                         \n",
       "Laiye Je Yaarian                                                     Romance  \n",
       "Borderless                                                       Documentary  \n",
       "Just Inès                                                              Drama  \n",
       "The Legend of Hercules                              Action,Adventure,Fantasy  \n",
       "Até Onde?                                                   Mystery,Thriller  \n",
       "...                                                                      ...  \n",
       "Caisa                                                            Documentary  \n",
       "Code Geass: Lelouch of the Rebellion - Glorific...   Action,Animation,Sci-Fi  \n",
       "Sisters                                                         Action,Drama  \n",
       "The Projectionist                                                Documentary  \n",
       "Sathru                                                              Thriller  \n",
       "\n",
       "[73856 rows x 7 columns]"
      ]
     },
     "execution_count": 23,
     "metadata": {},
     "output_type": "execute_result"
    }
   ],
   "source": [
    "merged = pd.merge(movie_ratings, movie_basics, on='movie_id')\n",
    "merged = merged.rename(columns={'primary_title':\"movie\"})\n",
    "merged = merged.set_index('movie')\n",
    "merged"
   ]
  },
  {
   "cell_type": "code",
   "execution_count": 24,
   "metadata": {},
   "outputs": [],
   "source": [
    "master_df = movies_and_rating.join(merged, on = 'movie', how = 'outer', lsuffix = '__')"
   ]
  },
  {
   "cell_type": "markdown",
   "metadata": {},
   "source": [
    "# Drop redundant columns for readability, and Create new columns of interest for calculations visualizations, and metrics"
   ]
  },
  {
   "cell_type": "code",
   "execution_count": 25,
   "metadata": {},
   "outputs": [],
   "source": [
    "master_df.dropna(axis = 0, thresh = 9, inplace = True)"
   ]
  },
  {
   "cell_type": "code",
   "execution_count": 26,
   "metadata": {},
   "outputs": [],
   "source": [
    "master_df = master_df.set_index(\"movie\")"
   ]
  },
  {
   "cell_type": "code",
   "execution_count": 27,
   "metadata": {},
   "outputs": [],
   "source": [
    "master_df.drop([\"domestic_gross___\",'movie_id','original_title'],  axis=1, inplace=True)"
   ]
  },
  {
   "cell_type": "code",
   "execution_count": 28,
   "metadata": {},
   "outputs": [],
   "source": [
    "master_df[\"Total_Profit\"] = (master_df.worldwide_gross - master_df.production_budget)\n",
    "master_df[\"Profit%\"] = ((master_df.Total_Profit)/master_df.production_budget)*100"
   ]
  },
  {
   "cell_type": "markdown",
   "metadata": {},
   "source": [
    "# Runtime Visualizations"
   ]
  },
  {
   "cell_type": "markdown",
   "metadata": {},
   "source": [
    "## Creating Bins for Runtime"
   ]
  },
  {
   "cell_type": "code",
   "execution_count": 29,
   "metadata": {
    "scrolled": false
   },
   "outputs": [
    {
     "data": {
      "text/html": [
       "<div>\n",
       "<style scoped>\n",
       "    .dataframe tbody tr th:only-of-type {\n",
       "        vertical-align: middle;\n",
       "    }\n",
       "\n",
       "    .dataframe tbody tr th {\n",
       "        vertical-align: top;\n",
       "    }\n",
       "\n",
       "    .dataframe thead th {\n",
       "        text-align: right;\n",
       "    }\n",
       "</style>\n",
       "<table border=\"1\" class=\"dataframe\">\n",
       "  <thead>\n",
       "    <tr style=\"text-align: right;\">\n",
       "      <th></th>\n",
       "      <th>studio</th>\n",
       "      <th>domestic_gross</th>\n",
       "      <th>foreign_gross</th>\n",
       "      <th>year</th>\n",
       "      <th>release_date__</th>\n",
       "      <th>production_budget</th>\n",
       "      <th>worldwide_gross</th>\n",
       "      <th>original_language</th>\n",
       "      <th>popularity</th>\n",
       "      <th>release_date</th>\n",
       "      <th>vote_average</th>\n",
       "      <th>vote_count</th>\n",
       "      <th>averagerating</th>\n",
       "      <th>numvotes</th>\n",
       "      <th>start_year</th>\n",
       "      <th>runtime_minutes</th>\n",
       "      <th>genres</th>\n",
       "      <th>Total_Profit</th>\n",
       "      <th>Profit%</th>\n",
       "      <th>runtime_bins</th>\n",
       "    </tr>\n",
       "    <tr>\n",
       "      <th>movie</th>\n",
       "      <th></th>\n",
       "      <th></th>\n",
       "      <th></th>\n",
       "      <th></th>\n",
       "      <th></th>\n",
       "      <th></th>\n",
       "      <th></th>\n",
       "      <th></th>\n",
       "      <th></th>\n",
       "      <th></th>\n",
       "      <th></th>\n",
       "      <th></th>\n",
       "      <th></th>\n",
       "      <th></th>\n",
       "      <th></th>\n",
       "      <th></th>\n",
       "      <th></th>\n",
       "      <th></th>\n",
       "      <th></th>\n",
       "      <th></th>\n",
       "    </tr>\n",
       "  </thead>\n",
       "  <tbody>\n",
       "    <tr>\n",
       "      <th>Gulliver's Travels</th>\n",
       "      <td>Fox</td>\n",
       "      <td>42800000.0</td>\n",
       "      <td>194600000</td>\n",
       "      <td>2010.0</td>\n",
       "      <td>Dec 25, 2010</td>\n",
       "      <td>112000000.0</td>\n",
       "      <td>232017848.0</td>\n",
       "      <td>en</td>\n",
       "      <td>10.768</td>\n",
       "      <td>2010-12-25</td>\n",
       "      <td>5.1</td>\n",
       "      <td>1282.0</td>\n",
       "      <td>4.9</td>\n",
       "      <td>61178.0</td>\n",
       "      <td>2010.0</td>\n",
       "      <td>85.0</td>\n",
       "      <td>Adventure,Comedy,Family</td>\n",
       "      <td>120017848.0</td>\n",
       "      <td>107.158793</td>\n",
       "      <td>0</td>\n",
       "    </tr>\n",
       "    <tr>\n",
       "      <th>Yogi Bear</th>\n",
       "      <td>WB</td>\n",
       "      <td>100200000.0</td>\n",
       "      <td>101300000</td>\n",
       "      <td>2010.0</td>\n",
       "      <td>Dec 17, 2010</td>\n",
       "      <td>80000000.0</td>\n",
       "      <td>204774690.0</td>\n",
       "      <td>en</td>\n",
       "      <td>9.096</td>\n",
       "      <td>2010-12-17</td>\n",
       "      <td>5.3</td>\n",
       "      <td>387.0</td>\n",
       "      <td>4.6</td>\n",
       "      <td>18934.0</td>\n",
       "      <td>2010.0</td>\n",
       "      <td>80.0</td>\n",
       "      <td>Adventure,Animation,Comedy</td>\n",
       "      <td>124774690.0</td>\n",
       "      <td>155.968362</td>\n",
       "      <td>0</td>\n",
       "    </tr>\n",
       "    <tr>\n",
       "      <th>Unstoppable</th>\n",
       "      <td>Fox</td>\n",
       "      <td>81600000.0</td>\n",
       "      <td>86200000</td>\n",
       "      <td>2010.0</td>\n",
       "      <td>Nov 12, 2010</td>\n",
       "      <td>95000000.0</td>\n",
       "      <td>165720921.0</td>\n",
       "      <td>en</td>\n",
       "      <td>14.010</td>\n",
       "      <td>2010-11-12</td>\n",
       "      <td>6.4</td>\n",
       "      <td>1913.0</td>\n",
       "      <td>4.3</td>\n",
       "      <td>551.0</td>\n",
       "      <td>2013.0</td>\n",
       "      <td>65.0</td>\n",
       "      <td>Documentary</td>\n",
       "      <td>70720921.0</td>\n",
       "      <td>74.443075</td>\n",
       "      <td>0</td>\n",
       "    </tr>\n",
       "    <tr>\n",
       "      <th>Unstoppable</th>\n",
       "      <td>Fox</td>\n",
       "      <td>81600000.0</td>\n",
       "      <td>86200000</td>\n",
       "      <td>2010.0</td>\n",
       "      <td>Nov 12, 2010</td>\n",
       "      <td>95000000.0</td>\n",
       "      <td>165720921.0</td>\n",
       "      <td>en</td>\n",
       "      <td>14.010</td>\n",
       "      <td>2010-11-12</td>\n",
       "      <td>6.4</td>\n",
       "      <td>1913.0</td>\n",
       "      <td>8.1</td>\n",
       "      <td>8.0</td>\n",
       "      <td>2019.0</td>\n",
       "      <td>84.0</td>\n",
       "      <td>Documentary</td>\n",
       "      <td>70720921.0</td>\n",
       "      <td>74.443075</td>\n",
       "      <td>0</td>\n",
       "    </tr>\n",
       "    <tr>\n",
       "      <th>Unstoppable</th>\n",
       "      <td>Fox</td>\n",
       "      <td>81600000.0</td>\n",
       "      <td>86200000</td>\n",
       "      <td>2010.0</td>\n",
       "      <td>Nov 12, 2010</td>\n",
       "      <td>95000000.0</td>\n",
       "      <td>165720921.0</td>\n",
       "      <td>en</td>\n",
       "      <td>0.600</td>\n",
       "      <td>2013-09-24</td>\n",
       "      <td>1.6</td>\n",
       "      <td>4.0</td>\n",
       "      <td>4.3</td>\n",
       "      <td>551.0</td>\n",
       "      <td>2013.0</td>\n",
       "      <td>65.0</td>\n",
       "      <td>Documentary</td>\n",
       "      <td>70720921.0</td>\n",
       "      <td>74.443075</td>\n",
       "      <td>0</td>\n",
       "    </tr>\n",
       "    <tr>\n",
       "      <th>...</th>\n",
       "      <td>...</td>\n",
       "      <td>...</td>\n",
       "      <td>...</td>\n",
       "      <td>...</td>\n",
       "      <td>...</td>\n",
       "      <td>...</td>\n",
       "      <td>...</td>\n",
       "      <td>...</td>\n",
       "      <td>...</td>\n",
       "      <td>...</td>\n",
       "      <td>...</td>\n",
       "      <td>...</td>\n",
       "      <td>...</td>\n",
       "      <td>...</td>\n",
       "      <td>...</td>\n",
       "      <td>...</td>\n",
       "      <td>...</td>\n",
       "      <td>...</td>\n",
       "      <td>...</td>\n",
       "      <td>...</td>\n",
       "    </tr>\n",
       "    <tr>\n",
       "      <th>Beast</th>\n",
       "      <td>RAtt.</td>\n",
       "      <td>800000.0</td>\n",
       "      <td>NaN</td>\n",
       "      <td>2018.0</td>\n",
       "      <td>NaN</td>\n",
       "      <td>NaN</td>\n",
       "      <td>NaN</td>\n",
       "      <td>en</td>\n",
       "      <td>8.368</td>\n",
       "      <td>2018-05-11</td>\n",
       "      <td>6.9</td>\n",
       "      <td>87.0</td>\n",
       "      <td>5.8</td>\n",
       "      <td>502.0</td>\n",
       "      <td>2011.0</td>\n",
       "      <td>83.0</td>\n",
       "      <td>Drama,Thriller</td>\n",
       "      <td>NaN</td>\n",
       "      <td>NaN</td>\n",
       "      <td>0</td>\n",
       "    </tr>\n",
       "    <tr>\n",
       "      <th>Beast</th>\n",
       "      <td>RAtt.</td>\n",
       "      <td>800000.0</td>\n",
       "      <td>NaN</td>\n",
       "      <td>2018.0</td>\n",
       "      <td>NaN</td>\n",
       "      <td>NaN</td>\n",
       "      <td>NaN</td>\n",
       "      <td>en</td>\n",
       "      <td>8.368</td>\n",
       "      <td>2018-05-11</td>\n",
       "      <td>6.9</td>\n",
       "      <td>87.0</td>\n",
       "      <td>5.7</td>\n",
       "      <td>13.0</td>\n",
       "      <td>2018.0</td>\n",
       "      <td>60.0</td>\n",
       "      <td>Drama,Mystery</td>\n",
       "      <td>NaN</td>\n",
       "      <td>NaN</td>\n",
       "      <td>0</td>\n",
       "    </tr>\n",
       "    <tr>\n",
       "      <th>Mountain</th>\n",
       "      <td>Greenwich</td>\n",
       "      <td>365000.0</td>\n",
       "      <td>NaN</td>\n",
       "      <td>2018.0</td>\n",
       "      <td>NaN</td>\n",
       "      <td>NaN</td>\n",
       "      <td>NaN</td>\n",
       "      <td>en</td>\n",
       "      <td>5.489</td>\n",
       "      <td>2017-09-01</td>\n",
       "      <td>7.9</td>\n",
       "      <td>25.0</td>\n",
       "      <td>7.2</td>\n",
       "      <td>2529.0</td>\n",
       "      <td>2017.0</td>\n",
       "      <td>74.0</td>\n",
       "      <td>Documentary</td>\n",
       "      <td>NaN</td>\n",
       "      <td>NaN</td>\n",
       "      <td>0</td>\n",
       "    </tr>\n",
       "    <tr>\n",
       "      <th>Mountain</th>\n",
       "      <td>Greenwich</td>\n",
       "      <td>365000.0</td>\n",
       "      <td>NaN</td>\n",
       "      <td>2018.0</td>\n",
       "      <td>NaN</td>\n",
       "      <td>NaN</td>\n",
       "      <td>NaN</td>\n",
       "      <td>en</td>\n",
       "      <td>5.489</td>\n",
       "      <td>2017-09-01</td>\n",
       "      <td>7.9</td>\n",
       "      <td>25.0</td>\n",
       "      <td>6.2</td>\n",
       "      <td>244.0</td>\n",
       "      <td>2015.0</td>\n",
       "      <td>83.0</td>\n",
       "      <td>Drama</td>\n",
       "      <td>NaN</td>\n",
       "      <td>NaN</td>\n",
       "      <td>0</td>\n",
       "    </tr>\n",
       "    <tr>\n",
       "      <th>Souvenir</th>\n",
       "      <td>Strand</td>\n",
       "      <td>11400.0</td>\n",
       "      <td>NaN</td>\n",
       "      <td>2018.0</td>\n",
       "      <td>NaN</td>\n",
       "      <td>NaN</td>\n",
       "      <td>NaN</td>\n",
       "      <td>fr</td>\n",
       "      <td>2.130</td>\n",
       "      <td>2016-09-08</td>\n",
       "      <td>5.8</td>\n",
       "      <td>14.0</td>\n",
       "      <td>5.9</td>\n",
       "      <td>9.0</td>\n",
       "      <td>2014.0</td>\n",
       "      <td>86.0</td>\n",
       "      <td>Comedy,Romance</td>\n",
       "      <td>NaN</td>\n",
       "      <td>NaN</td>\n",
       "      <td>0</td>\n",
       "    </tr>\n",
       "  </tbody>\n",
       "</table>\n",
       "<p>452 rows × 20 columns</p>\n",
       "</div>"
      ],
      "text/plain": [
       "                       studio  domestic_gross foreign_gross    year  \\\n",
       "movie                                                                 \n",
       "Gulliver's Travels        Fox      42800000.0     194600000  2010.0   \n",
       "Yogi Bear                  WB     100200000.0     101300000  2010.0   \n",
       "Unstoppable               Fox      81600000.0      86200000  2010.0   \n",
       "Unstoppable               Fox      81600000.0      86200000  2010.0   \n",
       "Unstoppable               Fox      81600000.0      86200000  2010.0   \n",
       "...                       ...             ...           ...     ...   \n",
       "Beast                   RAtt.        800000.0           NaN  2018.0   \n",
       "Beast                   RAtt.        800000.0           NaN  2018.0   \n",
       "Mountain            Greenwich        365000.0           NaN  2018.0   \n",
       "Mountain            Greenwich        365000.0           NaN  2018.0   \n",
       "Souvenir               Strand         11400.0           NaN  2018.0   \n",
       "\n",
       "                   release_date__  production_budget  worldwide_gross  \\\n",
       "movie                                                                   \n",
       "Gulliver's Travels   Dec 25, 2010        112000000.0      232017848.0   \n",
       "Yogi Bear            Dec 17, 2010         80000000.0      204774690.0   \n",
       "Unstoppable          Nov 12, 2010         95000000.0      165720921.0   \n",
       "Unstoppable          Nov 12, 2010         95000000.0      165720921.0   \n",
       "Unstoppable          Nov 12, 2010         95000000.0      165720921.0   \n",
       "...                           ...                ...              ...   \n",
       "Beast                         NaN                NaN              NaN   \n",
       "Beast                         NaN                NaN              NaN   \n",
       "Mountain                      NaN                NaN              NaN   \n",
       "Mountain                      NaN                NaN              NaN   \n",
       "Souvenir                      NaN                NaN              NaN   \n",
       "\n",
       "                   original_language  popularity release_date  vote_average  \\\n",
       "movie                                                                         \n",
       "Gulliver's Travels                en      10.768   2010-12-25           5.1   \n",
       "Yogi Bear                         en       9.096   2010-12-17           5.3   \n",
       "Unstoppable                       en      14.010   2010-11-12           6.4   \n",
       "Unstoppable                       en      14.010   2010-11-12           6.4   \n",
       "Unstoppable                       en       0.600   2013-09-24           1.6   \n",
       "...                              ...         ...          ...           ...   \n",
       "Beast                             en       8.368   2018-05-11           6.9   \n",
       "Beast                             en       8.368   2018-05-11           6.9   \n",
       "Mountain                          en       5.489   2017-09-01           7.9   \n",
       "Mountain                          en       5.489   2017-09-01           7.9   \n",
       "Souvenir                          fr       2.130   2016-09-08           5.8   \n",
       "\n",
       "                    vote_count  averagerating  numvotes  start_year  \\\n",
       "movie                                                                 \n",
       "Gulliver's Travels      1282.0            4.9   61178.0      2010.0   \n",
       "Yogi Bear                387.0            4.6   18934.0      2010.0   \n",
       "Unstoppable             1913.0            4.3     551.0      2013.0   \n",
       "Unstoppable             1913.0            8.1       8.0      2019.0   \n",
       "Unstoppable                4.0            4.3     551.0      2013.0   \n",
       "...                        ...            ...       ...         ...   \n",
       "Beast                     87.0            5.8     502.0      2011.0   \n",
       "Beast                     87.0            5.7      13.0      2018.0   \n",
       "Mountain                  25.0            7.2    2529.0      2017.0   \n",
       "Mountain                  25.0            6.2     244.0      2015.0   \n",
       "Souvenir                  14.0            5.9       9.0      2014.0   \n",
       "\n",
       "                    runtime_minutes                      genres  Total_Profit  \\\n",
       "movie                                                                           \n",
       "Gulliver's Travels             85.0     Adventure,Comedy,Family   120017848.0   \n",
       "Yogi Bear                      80.0  Adventure,Animation,Comedy   124774690.0   \n",
       "Unstoppable                    65.0                 Documentary    70720921.0   \n",
       "Unstoppable                    84.0                 Documentary    70720921.0   \n",
       "Unstoppable                    65.0                 Documentary    70720921.0   \n",
       "...                             ...                         ...           ...   \n",
       "Beast                          83.0              Drama,Thriller           NaN   \n",
       "Beast                          60.0               Drama,Mystery           NaN   \n",
       "Mountain                       74.0                 Documentary           NaN   \n",
       "Mountain                       83.0                       Drama           NaN   \n",
       "Souvenir                       86.0              Comedy,Romance           NaN   \n",
       "\n",
       "                       Profit%  runtime_bins  \n",
       "movie                                         \n",
       "Gulliver's Travels  107.158793             0  \n",
       "Yogi Bear           155.968362             0  \n",
       "Unstoppable          74.443075             0  \n",
       "Unstoppable          74.443075             0  \n",
       "Unstoppable          74.443075             0  \n",
       "...                        ...           ...  \n",
       "Beast                      NaN             0  \n",
       "Beast                      NaN             0  \n",
       "Mountain                   NaN             0  \n",
       "Mountain                   NaN             0  \n",
       "Souvenir                   NaN             0  \n",
       "\n",
       "[452 rows x 20 columns]"
      ]
     },
     "execution_count": 29,
     "metadata": {},
     "output_type": "execute_result"
    }
   ],
   "source": [
    "# creating runtime bins\n",
    "binned_df = master_df.copy()\n",
    "bins = [90, 150, 210, 270] # bins of under 1.5 hours, 1.5-2.5 hours, 2.5-3.5 hours, 3.5+ hours\n",
    "runtime_bins = []\n",
    "for index, row in binned_df.iterrows():\n",
    "    runtime = row['runtime_minutes']\n",
    "    if runtime < bins[0]:\n",
    "        runtime_bins.append(0)\n",
    "    elif runtime < bins[1]:\n",
    "        runtime_bins.append(1)\n",
    "    elif runtime < bins[2]:\n",
    "        runtime_bins.append(2)\n",
    "    else:\n",
    "        runtime_bins.append(3)\n",
    "binned_df['runtime_bins'] = runtime_bins\n",
    "binned_df[binned_df['runtime_bins'] == 0]"
   ]
  },
  {
   "cell_type": "markdown",
   "metadata": {},
   "source": [
    "## Average Rating vs. Runtime\n",
    "### Conclusion: To get higher ratings, an ideal runtime for a movie is 2.5 - 3.5 hours. "
   ]
  },
  {
   "cell_type": "code",
   "execution_count": 30,
   "metadata": {},
   "outputs": [
    {
     "data": {
      "image/png": "[encoded data removed]",
      "text/plain": [
       "<Figure size 432x288 with 1 Axes>"
      ]
     },
     "metadata": {
      "needs_background": "light"
     },
     "output_type": "display_data"
    }
   ],
   "source": [
    "fix, ax = plt.subplots()\n",
    "sns.set(rc={\"figure.figsize\":(10, 7)})\n",
    "sns.set_theme(style=\"whitegrid\", font_scale=1.5)\n",
    "runtime_df = binned_df[binned_df['runtime_bins'] != 0]\n",
    "plot = sns.barplot(data = binned_df, x = 'runtime_bins', y = 'averagerating', color = 'green').set(title = 'Average Rating vs. Runtime')\n",
    "ax.set_xticklabels([\"below 1.5\",\"1.5 - 2.5\",\"2.5 - 3.5\",\"above 3.5\"])\n",
    "ax.axhline(y = binned_df['averagerating'].mean(), color='r', linestyle='dotted', label = \"Mean of Average Rating\")\n",
    "ax.legend()\n",
    "ax.set_xlabel(\"Runtime (Hours)\")\n",
    "ax.set_ylabel(\"Average Rating\")\n",
    "plt.show()"
   ]
  },
  {
   "cell_type": "markdown",
   "metadata": {},
   "source": [
    "## Average Profit Percentage vs. Runtime\n",
    "### Conclusion: To get higher profit percentage, an ideal runtime for a movie is below 1.5 hours. "
   ]
  },
  {
   "cell_type": "code",
   "execution_count": 31,
   "metadata": {},
   "outputs": [
    {
     "data": {
      "image/png": "[encoded data removed]",
      "text/plain": [
       "<Figure size 720x504 with 1 Axes>"
      ]
     },
     "metadata": {},
     "output_type": "display_data"
    }
   ],
   "source": [
    "fix, ax = plt.subplots()\n",
    "sns.set(rc={\"figure.figsize\":(10, 7)})\n",
    "sns.set_theme(style=\"whitegrid\", font_scale=1.5)\n",
    "plot = sns.barplot(data = binned_df, x = 'runtime_bins', y = 'Profit%', color = 'green').set(title = 'Average Profit Percentage vs. Runtime')\n",
    "ax.set_xticklabels([\"below 1.5\",\"1.5 - 2.5\",\"2.5 - 3.5\",\"above 3.5\"])\n",
    "ax.set_xlabel(\"Runtime (Hours)\")\n",
    "ax.set_ylabel(\"Average Profit Percentage\")\n",
    "ax.axhline(y = binned_df['Profit%'].mean(), color='r', linestyle='dotted', label = \"Mean of Average Profit Percentage\")\n",
    "ax.legend()\n",
    "# plt.text(binned_df[\"Profit%\"].mean()+25,-.5,  \"Mean of all movies: {:.2f}\".format(master_df[\"Profit%\"].mean()))\n",
    "plt.show()"
   ]
  },
  {
   "cell_type": "markdown",
   "metadata": {},
   "source": [
    "## Cleaning up genres column and initial visualizations with transformed data"
   ]
  },
  {
   "cell_type": "code",
   "execution_count": 32,
   "metadata": {},
   "outputs": [
    {
     "name": "stderr",
     "output_type": "stream",
     "text": [
      "<ipython-input-32-407b8d87f472>:11: SettingWithCopyWarning: \n",
      "A value is trying to be set on a copy of a slice from a DataFrame.\n",
      "Try using .loc[row_indexer,col_indexer] = value instead\n",
      "\n",
      "See the caveats in the documentation: https://pandas.pydata.org/pandas-docs/stable/user_guide/indexing.html#returning-a-view-versus-a-copy\n",
      "  master_df_genre_sg['genres'] = master_df_genre_sg['genres'].map(lambda x: x.split(',') if type(x) is str else x)\n"
     ]
    }
   ],
   "source": [
    "# Split genres into new rows\n",
    "master_df_genre = master_df.copy()\n",
    "\n",
    "# Used later for sub-genre analysis\n",
    "master_df_genre_sg = merged\n",
    "master_df_genre_sg = master_df_genre_sg[master_df_genre_sg['genres'].str.contains('Documentary',na=False) \n",
    "                                        | master_df_genre_sg['genres'].str.contains('Biography',na=False) \n",
    "                                        | master_df_genre_sg['genres'].str.contains('History',na=False)]\n",
    "\n",
    "master_df_genre['genres'] = master_df_genre['genres'].map(lambda x: x.split(',') if type(x) is str else x)\n",
    "master_df_genre_sg['genres'] = master_df_genre_sg['genres'].map(lambda x: x.split(',') if type(x) is str else x)\n",
    "master_df_genre = master_df_genre.explode('genres')\n",
    "master_df_genre_sg = master_df_genre_sg.explode('genres')"
   ]
  },
  {
   "cell_type": "code",
   "execution_count": 33,
   "metadata": {},
   "outputs": [],
   "source": [
    "# Drop irrelevant genres\n",
    "drop_list = ['Talk-Show','Reality-TV','Game-Show','News', 'Short']\n",
    "\n",
    "for dropg in drop_list:\n",
    "    master_df_genre = master_df_genre[master_df_genre['genres'] != dropg].copy()\n",
    "    master_df_genre_sg = master_df_genre_sg[master_df_genre_sg['genres'] != dropg].copy()\n",
    "    \n",
    "# Merge Musical and Musically\n",
    "master_df_genre['genres'] = master_df_genre['genres'].map(lambda x: x if x != 'Music' else 'Musical')\n",
    "master_df_genre_sg['genres'] = master_df_genre_sg['genres'].map(lambda x: x if x != 'Music' else 'Musical')"
   ]
  },
  {
   "cell_type": "markdown",
   "metadata": {},
   "source": [
    "# Average Overall Rating by Genre"
   ]
  },
  {
   "cell_type": "code",
   "execution_count": 34,
   "metadata": {},
   "outputs": [
    {
     "data": {
      "text/plain": [
       "[Text(0.5, 0, 'Rating'), Text(0, 0.5, 'Genres')]"
      ]
     },
     "execution_count": 34,
     "metadata": {},
     "output_type": "execute_result"
    },
    {
     "data": {
      "image/png": "[encoded data removed]",
      "text/plain": [
       "<Figure size 914.4x595.44 with 1 Axes>"
      ]
     },
     "metadata": {},
     "output_type": "display_data"
    }
   ],
   "source": [
    "# Get top 5 rated genres\n",
    "master_df_genre_grp = master_df_genre.groupby(['genres']).mean().sort_values(by=['averagerating','vote_average'],ascending=False).head()\n",
    "\n",
    "# Rename columns for plot\n",
    "master_df_genre_grp = master_df_genre_grp.rename(columns={'averagerating':'IMDb Avg Rating','vote_average':'TMDb Avg Rating'})\n",
    "\n",
    "# Convert to vertical format for seaborn\n",
    "master_df_genre_grp = master_df_genre_grp[['IMDb Avg Rating','TMDb Avg Rating']].stack().to_frame('value').reset_index()\n",
    "master_df_genre_grp.rename(columns={'level_1':'Rating Type'},inplace=True)\n",
    "\n",
    "# Plot\n",
    "sns.set(rc={'figure.figsize':(12.7,8.27)})\n",
    "sns.barplot(palette=['green','limegreen'],data=master_df_genre_grp,orient='h',y='genres',x='value',hue='Rating Type').set(xlabel='Rating',ylabel='Genres')"
   ]
  },
  {
   "cell_type": "markdown",
   "metadata": {},
   "source": [
    "# Plotting the average runtime by genre"
   ]
  },
  {
   "cell_type": "code",
   "execution_count": 35,
   "metadata": {},
   "outputs": [
    {
     "data": {
      "text/plain": [
       "<matplotlib.legend.Legend at 0x15b8a045c40>"
      ]
     },
     "execution_count": 35,
     "metadata": {},
     "output_type": "execute_result"
    },
    {
     "data": {
      "image/png": "[encoded data removed]",
      "text/plain": [
       "<Figure size 864x576 with 1 Axes>"
      ]
     },
     "metadata": {},
     "output_type": "display_data"
    }
   ],
   "source": [
    "master_df_genre_grp = master_df_genre.groupby(['genres'])\n",
    "master_df_genre_grp.mean().plot(figsize=(12,8),y=['runtime_minutes'],kind='bar',xlabel='Genres',ylabel='Run Time',title='Average Run Time by Genre')\n",
    "plt.legend(labels=['IMDb Avg Rating','TMDb Avg Rating'])"
   ]
  },
  {
   "cell_type": "markdown",
   "metadata": {},
   "source": [
    "# Plotting sub-genres by average rating"
   ]
  },
  {
   "cell_type": "code",
   "execution_count": 36,
   "metadata": {},
   "outputs": [
    {
     "data": {
      "text/plain": [
       "<AxesSubplot:xlabel='Avg Rating', ylabel='Documentary Sub-genres'>"
      ]
     },
     "execution_count": 36,
     "metadata": {},
     "output_type": "execute_result"
    },
    {
     "data": {
      "image/png": "[encoded data removed]",
      "text/plain": [
       "<Figure size 914.4x595.44 with 1 Axes>"
      ]
     },
     "metadata": {},
     "output_type": "display_data"
    }
   ],
   "source": [
    "# Sub genre count\n",
    "df_doc = master_df_genre_sg.drop(master_df_genre_sg[(master_df_genre_sg['genres'] == 'Biography') | (master_df_genre_sg['genres'] == 'History')].index)\n",
    "df_bio = master_df_genre_sg.drop(master_df_genre_sg[(master_df_genre_sg['genres'] == 'Documentary') | (master_df_genre_sg['genres'] == 'History')].index)\n",
    "df_his = master_df_genre_sg.drop(master_df_genre_sg[(master_df_genre_sg['genres'] == 'Documentary') | (master_df_genre_sg['genres'] == 'Biography')].index)\n",
    "\n",
    "#\n",
    "df_doc = df_doc[df_doc['genres'] != 'Documentary']\n",
    "df_bio = df_bio[df_bio['genres'] != 'Biography']\n",
    "df_his = df_his[df_his['genres'] != 'History']\n",
    "\n",
    "# Plot\n",
    "sns.barplot(data=df_doc.rename(columns={'genres':'Documentary Sub-genres','averagerating':'Avg Rating'}).groupby(['Documentary Sub-genres']).mean().sort_values(by='Avg Rating',ascending=False).head().reset_index(),y='Documentary Sub-genres',orient='h',x='Avg Rating',color='green')"
   ]
  },
  {
   "cell_type": "code",
   "execution_count": 37,
   "metadata": {},
   "outputs": [
    {
     "data": {
      "text/plain": [
       "<AxesSubplot:xlabel='Avg Rating', ylabel='Biography Sub-genres'>"
      ]
     },
     "execution_count": 37,
     "metadata": {},
     "output_type": "execute_result"
    },
    {
     "data": {
      "image/png": "[encoded data removed]",
      "text/plain": [
       "<Figure size 914.4x595.44 with 1 Axes>"
      ]
     },
     "metadata": {},
     "output_type": "display_data"
    }
   ],
   "source": [
    "sns.barplot(data=df_bio.rename(columns={'genres':'Biography Sub-genres','averagerating':'Avg Rating'}).groupby(['Biography Sub-genres']).mean().sort_values(by='Avg Rating',ascending=False).head().reset_index(),y='Biography Sub-genres',orient='h',x='Avg Rating',color='green')"
   ]
  },
  {
   "cell_type": "code",
   "execution_count": 38,
   "metadata": {},
   "outputs": [
    {
     "data": {
      "text/plain": [
       "<AxesSubplot:xlabel='Avg Rating', ylabel='History Sub-genres'>"
      ]
     },
     "execution_count": 38,
     "metadata": {},
     "output_type": "execute_result"
    },
    {
     "data": {
      "image/png": "[encoded data removed]",
      "text/plain": [
       "<Figure size 914.4x595.44 with 1 Axes>"
      ]
     },
     "metadata": {},
     "output_type": "display_data"
    }
   ],
   "source": [
    "sns.barplot(data=df_his.rename(columns={'genres':'History Sub-genres','averagerating':'Avg Rating'}).groupby(['History Sub-genres']).mean().sort_values(by='Avg Rating',ascending=False).head().reset_index(),y='History Sub-genres',orient='h',x='Avg Rating',color='green')"
   ]
  },
  {
   "cell_type": "code",
   "execution_count": 39,
   "metadata": {},
   "outputs": [],
   "source": [
    "master_df = master_df_genre.copy()"
   ]
  },
  {
   "cell_type": "code",
   "execution_count": 40,
   "metadata": {},
   "outputs": [],
   "source": [
    "master_df_genre_grp = master_df.groupby(['genres'])"
   ]
  },
  {
   "cell_type": "code",
   "execution_count": 41,
   "metadata": {},
   "outputs": [
    {
     "name": "stderr",
     "output_type": "stream",
     "text": [
      "<ipython-input-41-e2001fd37efd>:7: UserWarning: FixedFormatter should only be used together with FixedLocator\n",
      "  ax.set_yticklabels(yticks)\n"
     ]
    },
    {
     "data": {
      "image/png": "[encoded data removed]",
      "text/plain": [
       "<Figure size 864x576 with 1 Axes>"
      ]
     },
     "metadata": {},
     "output_type": "display_data"
    }
   ],
   "source": [
    "yticks = [\"$0\", \"$50,000,000\", \"$100,000,000\",\"$150,000,000\",\"$200,000,000\",\"$250,000,000\",\"$300,000,000\",\"$350,000,000\",\"$400,000,000\",]\n",
    "\n",
    "ax = master_df_genre_grp.mean().plot(figsize=(12,8),y=['production_budget','worldwide_gross'],\n",
    "                                     kind='bar',xlabel='Genres',ylabel='USD', title='Average Production Budget and Worldwide Gross by Genre')\n",
    "\n",
    "\n",
    "ax.set_yticklabels(yticks)\n",
    "plt.legend(labels=['Production Budget','worldwide_gross']);"
   ]
  },
  {
   "cell_type": "code",
   "execution_count": 42,
   "metadata": {},
   "outputs": [
    {
     "data": {
      "text/plain": [
       "''"
      ]
     },
     "execution_count": 42,
     "metadata": {},
     "output_type": "execute_result"
    },
    {
     "data": {
      "image/png": "[encoded data removed]",
      "text/plain": [
       "<Figure size 864x576 with 1 Axes>"
      ]
     },
     "metadata": {},
     "output_type": "display_data"
    }
   ],
   "source": [
    "master_df_genre_grp.mean().plot(figsize=(12,8),y=['Profit%'],kind='bar'\n",
    "                                ,xlabel='Genres',ylabel='Average Profit Margin (%) ',title='Average Profit Margin by Genre')\n",
    ";"
   ]
  },
  {
   "cell_type": "code",
   "execution_count": 43,
   "metadata": {},
   "outputs": [
    {
     "name": "stderr",
     "output_type": "stream",
     "text": [
      "<ipython-input-43-201439dd1bd5>:5: UserWarning: FixedFormatter should only be used together with FixedLocator\n",
      "  ax.set_yticklabels(yticks);\n"
     ]
    },
    {
     "data": {
      "image/png": "[encoded data removed]",
      "text/plain": [
       "<Figure size 1440x1080 with 1 Axes>"
      ]
     },
     "metadata": {},
     "output_type": "display_data"
    }
   ],
   "source": [
    "yticks = [\"$0\", \"$20,000,000\", \"$40,000,000\", \"$60,000,000\", \"$80,000,000\", \"$100,000,000\",\"120,000,000\"]\n",
    "\n",
    "sns.set(rc={\"figure.figsize\":(20, 15)})\n",
    "ax = sns.barplot(data=master_df,x='genres',y='production_budget', color = \"red\", orient = 'v')\n",
    "ax.set_yticklabels(yticks);"
   ]
  },
  {
   "cell_type": "markdown",
   "metadata": {},
   "source": [
    "# Genre Visualizations:"
   ]
  },
  {
   "cell_type": "code",
   "execution_count": 44,
   "metadata": {},
   "outputs": [],
   "source": [
    "#Create Group of top 5 profit percentage genres in order to plot\n",
    "new_df = master_df.copy()\n",
    "new_df_top_5 = master_df[(master_df.genres == \"Horror\") | (master_df.genres == \"Mystery\") |\n",
    "                         (master_df.genres == \"Romance\") | (master_df.genres == \"Thriller\") \n",
    "                         | (master_df.genres == \"Sport\")]\n",
    "new_df_genre_grp = new_df_top_5.groupby(\"genres\")\n"
   ]
  },
  {
   "cell_type": "code",
   "execution_count": 45,
   "metadata": {},
   "outputs": [
    {
     "data": {
      "text/plain": [
       "''"
      ]
     },
     "execution_count": 45,
     "metadata": {},
     "output_type": "execute_result"
    },
    {
     "data": {
      "image/png": "[encoded data removed]",
      "text/plain": [
       "<Figure size 1440x1080 with 1 Axes>"
      ]
     },
     "metadata": {},
     "output_type": "display_data"
    }
   ],
   "source": [
    "#Create Seaborn plot of the highest profiting genres \n",
    "sns.set_theme(style=\"whitegrid\",palette= \"deep\", font_scale=1.8)\n",
    "\n",
    "ax = sns.barplot(data=new_df_top_5,y='genres',x='Profit%', color = \"green\", orient = 'h')\n",
    "ax.set_ylabel(\"Genres\")\n",
    "ax.set_xlabel(\"Average Profit Percentage\")\n",
    "ax.set_title(\"Top 5 Profitable Genres\", size = 30, pad = 50)\n",
    "ax.axvline(master_df[\"Profit%\"].mean(), ls = '--', color = \"red\")\n",
    "plt.text(master_df[\"Profit%\"].mean()+25,-.5,  \"Mean of all movies: {:.2f}\".format(master_df[\"Profit%\"].mean()))\n",
    ";"
   ]
  },
  {
   "cell_type": "markdown",
   "metadata": {},
   "source": [
    "# Budget Visualizations"
   ]
  },
  {
   "cell_type": "code",
   "execution_count": 46,
   "metadata": {},
   "outputs": [
    {
     "name": "stderr",
     "output_type": "stream",
     "text": [
      "<ipython-input-46-9a8183321afc>:10: UserWarning: FixedFormatter should only be used together with FixedLocator\n",
      "  ax.set_xticklabels([\"0\",'50,000,000', \"100,000,000\",\n"
     ]
    },
    {
     "data": {
      "image/png": "[encoded data removed]",
      "text/plain": [
       "<Figure size 1440x1080 with 1 Axes>"
      ]
     },
     "metadata": {},
     "output_type": "display_data"
    }
   ],
   "source": [
    "sns.set_theme(style=\"whitegrid\", font_scale=1.8)\n",
    "ax = sns.regplot(x=\"production_budget\",\n",
    "                    y=\"runtime_minutes\",\n",
    "                    data=master_df,\n",
    "                    color = \"green\")\n",
    "plt.ylim(0, 200)\n",
    "plt.title(\"Movie Run time and Studio Film Production Budgets\",size =30 )\n",
    "plt.xlabel(\"Studio Production Budget\", size = 24)\n",
    "plt.ylabel(\"Run Time in Minutes\", size = 24)\n",
    "ax.set_xticklabels([\"0\",'50,000,000', \"100,000,000\",\n",
    "                    \"150,000,000\",\"200,000,000\",\"250,000,000\",\n",
    "                    '300,000,000',\"350,000,000\",\"400,000,000\",\"450,000,000\"]);"
   ]
  },
  {
   "cell_type": "code",
   "execution_count": 47,
   "metadata": {},
   "outputs": [
    {
     "name": "stderr",
     "output_type": "stream",
     "text": [
      "<ipython-input-47-9b3393d5efef>:10: UserWarning: FixedFormatter should only be used together with FixedLocator\n",
      "  ax.set_xticklabels([\"0\",'50,000,000', \"100,000,000\",\n"
     ]
    },
    {
     "data": {
      "image/png": "[encoded data removed]",
      "text/plain": [
       "<Figure size 1440x1080 with 1 Axes>"
      ]
     },
     "metadata": {},
     "output_type": "display_data"
    }
   ],
   "source": [
    "sns.set_theme(style=\"whitegrid\", font_scale=1.8)\n",
    "ax = sns.regplot(x=\"production_budget\",\n",
    "                    y=\"Profit%\",\n",
    "                    data=master_df,\n",
    "                    color = \"green\")\n",
    "plt.ylim(-250, 2000)\n",
    "plt.title(\"Profit Percentages and Studio Film Production Budgets\",size =24 )\n",
    "plt.xlabel(\"Studio Production Budget\")\n",
    "plt.ylabel(\"Box Office Profit Percentage\")\n",
    "ax.set_xticklabels([\"0\",'50,000,000', \"100,000,000\",\n",
    "                    \"150,000,000\",\"200,000,000\",\"250,000,000\",\n",
    "                    '300,000,000',\"350,000,000\",\"400,000,000\",\"450,000,000\"]);"
   ]
  },
  {
   "cell_type": "markdown",
   "metadata": {},
   "source": [
    "# Calculating sample statistics like correlation to determine general trends among key quantitative variables of interest"
   ]
  },
  {
   "cell_type": "code",
   "execution_count": 48,
   "metadata": {},
   "outputs": [
    {
     "data": {
      "text/plain": [
       "0.6452383068974957"
      ]
     },
     "execution_count": 48,
     "metadata": {},
     "output_type": "execute_result"
    }
   ],
   "source": [
    "master_df.production_budget.corr(master_df.Total_Profit)"
   ]
  },
  {
   "cell_type": "code",
   "execution_count": 49,
   "metadata": {},
   "outputs": [
    {
     "data": {
      "text/plain": [
       "0.14159000612679057"
      ]
     },
     "execution_count": 49,
     "metadata": {},
     "output_type": "execute_result"
    }
   ],
   "source": [
    "master_df.production_budget.corr(master_df.averagerating)"
   ]
  },
  {
   "cell_type": "code",
   "execution_count": 50,
   "metadata": {},
   "outputs": [
    {
     "data": {
      "text/plain": [
       "-0.09983003381523185"
      ]
     },
     "execution_count": 50,
     "metadata": {},
     "output_type": "execute_result"
    }
   ],
   "source": [
    "master_df.production_budget.corr(master_df['Profit%'])"
   ]
  },
  {
   "cell_type": "code",
   "execution_count": 51,
   "metadata": {},
   "outputs": [
    {
     "data": {
      "text/plain": [
       "0.2647187702866112"
      ]
     },
     "execution_count": 51,
     "metadata": {},
     "output_type": "execute_result"
    }
   ],
   "source": [
    "master_df.runtime_minutes.corr(master_df.averagerating)"
   ]
  },
  {
   "cell_type": "code",
   "execution_count": 52,
   "metadata": {},
   "outputs": [
    {
     "data": {
      "text/plain": [
       "-0.07883337549573391"
      ]
     },
     "execution_count": 52,
     "metadata": {},
     "output_type": "execute_result"
    }
   ],
   "source": [
    "master_df.runtime_minutes.corr(master_df[\"Profit%\"])"
   ]
  },
  {
   "cell_type": "markdown",
   "metadata": {},
   "source": [
    "# Exploratory Statistical Testings on genres \n",
    "\n",
    "## Construct new data sets using genres of interest to create samples to compare to the general population\n",
    "\n",
    "Explored several different variables and their statistical relationship with the general movies population to determine relationships of interest and determine the extent of these relationships"
   ]
  },
  {
   "cell_type": "markdown",
   "metadata": {},
   "source": [
    "## Statistical testing for horror genre with variables: Profit Percentage"
   ]
  },
  {
   "cell_type": "code",
   "execution_count": 53,
   "metadata": {},
   "outputs": [],
   "source": [
    "df_horror = master_df[master_df.genres == \"Horror\"]"
   ]
  },
  {
   "cell_type": "code",
   "execution_count": 54,
   "metadata": {},
   "outputs": [
    {
     "data": {
      "text/plain": [
       "1233.1011563119691"
      ]
     },
     "execution_count": 54,
     "metadata": {},
     "output_type": "execute_result"
    }
   ],
   "source": [
    "df_horror[\"Profit%\"].mean()"
   ]
  },
  {
   "cell_type": "code",
   "execution_count": 55,
   "metadata": {},
   "outputs": [
    {
     "data": {
      "text/plain": [
       "Ttest_1sampResult(statistic=3.53840163863994, pvalue=0.0005037350881016798)"
      ]
     },
     "execution_count": 55,
     "metadata": {},
     "output_type": "execute_result"
    }
   ],
   "source": [
    "stats.ttest_1samp(df_horror['Profit%'], popmean=master_df[\"Profit%\"].mean(), nan_policy=\"omit\")"
   ]
  },
  {
   "cell_type": "code",
   "execution_count": 56,
   "metadata": {},
   "outputs": [
    {
     "data": {
      "text/plain": [
       "(-5257.722730797313, 7723.925043421251)"
      ]
     },
     "execution_count": 56,
     "metadata": {},
     "output_type": "execute_result"
    }
   ],
   "source": [
    "stats.t.interval(alpha = .95, df = len(df_horror)-1, loc = df_horror[\"Profit%\"].mean(), scale = df_horror[\"Profit%\"].std())"
   ]
  },
  {
   "cell_type": "markdown",
   "metadata": {},
   "source": [
    "## Statistical testing for mystery genre with variable: Profit Percentage"
   ]
  },
  {
   "cell_type": "code",
   "execution_count": 57,
   "metadata": {},
   "outputs": [],
   "source": [
    "df_mystery = master_df[master_df.genres == \"Mystery\"]"
   ]
  },
  {
   "cell_type": "code",
   "execution_count": 58,
   "metadata": {},
   "outputs": [
    {
     "data": {
      "text/plain": [
       "1047.7253384458588"
      ]
     },
     "execution_count": 58,
     "metadata": {},
     "output_type": "execute_result"
    }
   ],
   "source": [
    "df_mystery[\"Profit%\"].mean()"
   ]
  },
  {
   "cell_type": "code",
   "execution_count": 59,
   "metadata": {},
   "outputs": [
    {
     "data": {
      "text/plain": [
       "(-6319.355459118147, 8414.806136009865)"
      ]
     },
     "execution_count": 59,
     "metadata": {},
     "output_type": "execute_result"
    }
   ],
   "source": [
    "stats.t.interval(alpha = .95, df = len(df_mystery)-1, loc = df_mystery[\"Profit%\"].mean(), \n",
    "                 scale =df_mystery[\"Profit%\"].std())"
   ]
  },
  {
   "cell_type": "code",
   "execution_count": 60,
   "metadata": {},
   "outputs": [
    {
     "data": {
      "text/plain": [
       "Ttest_1sampResult(statistic=2.0138774368039547, pvalue=0.04603971305391047)"
      ]
     },
     "execution_count": 60,
     "metadata": {},
     "output_type": "execute_result"
    }
   ],
   "source": [
    "stats.ttest_1samp(df_mystery['Profit%'], popmean=master_df[\"Profit%\"].mean(), nan_policy=\"omit\")"
   ]
  },
  {
   "cell_type": "code",
   "execution_count": 61,
   "metadata": {},
   "outputs": [],
   "source": [
    "#Statistically cheaper to make than other movies "
   ]
  },
  {
   "cell_type": "code",
   "execution_count": 62,
   "metadata": {},
   "outputs": [],
   "source": [
    "#mystery movies are statistically lower rated but statistically more profitable "
   ]
  },
  {
   "cell_type": "markdown",
   "metadata": {},
   "source": [
    "## Statistical testing for Sport genre with variables: Profit Percentage"
   ]
  },
  {
   "cell_type": "code",
   "execution_count": 63,
   "metadata": {},
   "outputs": [],
   "source": [
    "df_sport = master_df[master_df.genres == \"Sport\"]"
   ]
  },
  {
   "cell_type": "code",
   "execution_count": 64,
   "metadata": {},
   "outputs": [
    {
     "data": {
      "text/plain": [
       "1093.128317480592"
      ]
     },
     "execution_count": 64,
     "metadata": {},
     "output_type": "execute_result"
    }
   ],
   "source": [
    "df_sport[\"Profit%\"].mean()"
   ]
  },
  {
   "cell_type": "code",
   "execution_count": 65,
   "metadata": {},
   "outputs": [
    {
     "data": {
      "text/plain": [
       "(-3057.282009395951, 5243.538644357135)"
      ]
     },
     "execution_count": 65,
     "metadata": {},
     "output_type": "execute_result"
    }
   ],
   "source": [
    "stats.t.interval(alpha = .95, df = len(df_sport)-1, loc = df_sport[\"Profit%\"].mean(), \n",
    "                 scale =df_sport[\"Profit%\"].std())"
   ]
  },
  {
   "cell_type": "code",
   "execution_count": 66,
   "metadata": {},
   "outputs": [
    {
     "data": {
      "text/plain": [
       "Ttest_1sampResult(statistic=2.2454402542510925, pvalue=0.02981361881415251)"
      ]
     },
     "execution_count": 66,
     "metadata": {},
     "output_type": "execute_result"
    }
   ],
   "source": [
    "stats.ttest_1samp(df_sport['Profit%'], popmean=master_df[\"Profit%\"].mean(), nan_policy=\"omit\")"
   ]
  },
  {
   "cell_type": "markdown",
   "metadata": {},
   "source": [
    "## Statistical testing for Thriller genre with variables: Profit Percentage"
   ]
  },
  {
   "cell_type": "code",
   "execution_count": 67,
   "metadata": {},
   "outputs": [],
   "source": [
    "df_thriller = master_df[master_df.genres == \"Thriller\"]"
   ]
  },
  {
   "cell_type": "code",
   "execution_count": 68,
   "metadata": {},
   "outputs": [
    {
     "data": {
      "text/plain": [
       "733.7430978347663"
      ]
     },
     "execution_count": 68,
     "metadata": {},
     "output_type": "execute_result"
    }
   ],
   "source": [
    "df_thriller[\"Profit%\"].mean()"
   ]
  },
  {
   "cell_type": "code",
   "execution_count": 69,
   "metadata": {},
   "outputs": [
    {
     "data": {
      "text/plain": [
       "(-4388.160373276534, 5855.646568946067)"
      ]
     },
     "execution_count": 69,
     "metadata": {},
     "output_type": "execute_result"
    }
   ],
   "source": [
    "stats.t.interval(alpha = .95, df = len(df_thriller)-1, loc = df_thriller[\"Profit%\"].mean(), \n",
    "                 scale =df_thriller[\"Profit%\"].std())"
   ]
  },
  {
   "cell_type": "code",
   "execution_count": 70,
   "metadata": {},
   "outputs": [
    {
     "data": {
      "text/plain": [
       "Ttest_1sampResult(statistic=2.267538594407229, pvalue=0.02404996936541532)"
      ]
     },
     "execution_count": 70,
     "metadata": {},
     "output_type": "execute_result"
    }
   ],
   "source": [
    "stats.ttest_1samp(df_thriller['Profit%'], popmean=master_df[\"Profit%\"].mean(), nan_policy=\"omit\")"
   ]
  },
  {
   "cell_type": "markdown",
   "metadata": {},
   "source": [
    "## Statistical testing for Romance genre with variables: Profit Percentage"
   ]
  },
  {
   "cell_type": "code",
   "execution_count": 71,
   "metadata": {},
   "outputs": [],
   "source": [
    "df_romance = master_df[master_df.genres == \"Romance\"]"
   ]
  },
  {
   "cell_type": "code",
   "execution_count": 72,
   "metadata": {},
   "outputs": [
    {
     "data": {
      "text/plain": [
       "563.7883368777519"
      ]
     },
     "execution_count": 72,
     "metadata": {},
     "output_type": "execute_result"
    }
   ],
   "source": [
    "df_romance[\"Profit%\"].mean()"
   ]
  },
  {
   "cell_type": "code",
   "execution_count": 73,
   "metadata": {},
   "outputs": [
    {
     "data": {
      "text/plain": [
       "(-1392.5182404865009, 2520.094914242005)"
      ]
     },
     "execution_count": 73,
     "metadata": {},
     "output_type": "execute_result"
    }
   ],
   "source": [
    "stats.t.interval(alpha = .95, df = len(df_romance)-1, loc = df_romance[\"Profit%\"].mean(), \n",
    "                 scale =df_romance[\"Profit%\"].std())"
   ]
  },
  {
   "cell_type": "code",
   "execution_count": 74,
   "metadata": {},
   "outputs": [
    {
     "data": {
      "text/plain": [
       "Ttest_1sampResult(statistic=2.444339916049215, pvalue=0.015324699620990664)"
      ]
     },
     "execution_count": 74,
     "metadata": {},
     "output_type": "execute_result"
    }
   ],
   "source": [
    "stats.ttest_1samp(df_romance['Profit%'], popmean=master_df[\"Profit%\"].mean(), nan_policy=\"omit\")"
   ]
  }
 ],
 "metadata": {
  "kernelspec": {
   "display_name": "Python 3",
   "language": "python",
   "name": "python3"
  },
  "language_info": {
   "codemirror_mode": {
    "name": "ipython",
    "version": 3
   },
   "file_extension": ".py",
   "mimetype": "text/x-python",
   "name": "python",
   "nbconvert_exporter": "python",
   "pygments_lexer": "ipython3",
   "version": "3.8.5"
  }
 },
 "nbformat": 4,
 "nbformat_minor": 2
}
