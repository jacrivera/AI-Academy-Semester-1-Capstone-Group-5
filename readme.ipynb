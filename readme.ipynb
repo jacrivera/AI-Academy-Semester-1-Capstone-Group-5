{
 "cells": [
  {
   "attachments": {},
   "cell_type": "markdown",
   "id": "43698bf6",
   "metadata": {},
   "source": [
    "# Three Visualizations\n",
    "\n",
    "This chart shows how the duration of a film relates with its total profit. In this case, the 2.5-3.5 hour range appears to be best in terms of overall revenue.\n",
    "\n",
    "![Duration analysis visualization](images/vis0.png)\n",
    "\n",
    "Below the average overall rating for each movie genre on both IMDb and TMDb is displayed. Generally, most genres are rated around the same with the exception of nonfiction films.\n",
    "\n",
    "![Genre analysis visualization](images/vis1.png)\n",
    "\n",
    "This scatterplot shows the relation between profit percentages and production budgets. Films with smaller budgets typically appear to have higher profit percentages in comparison to higher budget films.\n",
    "\n",
    "![Budget analysis visualization](images/vis2.png)"
   ]
  },
  {
   "cell_type": "markdown",
   "id": "634cad47",
   "metadata": {},
   "source": [
    "# Conclusions\n",
    "#### To review, four datasets were cleaned and combined for analysis.\n",
    "\n",
    "The duration of the films in the dataset were analyzed and compared with rating, profits, and genre. Results from the analysis showed that films between 2.5 and 3.5 hours would not only produce the best ratings but also the most profit. The average runtime of each genre was generally very similar with only minor variations.\n",
    "\n",
    "The genres of the movies were correlated with profits and the ratings from both the IMDb and TMDb databases. Results revealed that nonfiction genres such as history, documentary, and biography were rated the highest above all other genres. The most popular sub-genres for these films included war, musical, and animation among others. However, action-packed genres such as horror, thriller, and mystery appeared to have the highest profit margins.\n",
    "\n",
    "Finally, the budgets and profits of films were analyzed in connection with ratings and profits. While there was some minor positive correlation between budget and ratings, many lower budget films performed just as well in terms of both ratings and profit margins. A smaller budget movie is the right choice as it provides the same ratings and profit margins as a larger budget film, while reducing the risks of a large investment.\n",
    "\n",
    "#### Provided the previous data analysis, the best option moving forward would be to produce a longer form film with a small budget. \n",
    "If the end goal is profit, a scary/action-packed genre for the film would maximize potential profits. Otherwise, if building the studio's reputation is more of a priority, a nonfiction genre would establish the basis for a critically acclaimed movie."
   ]
  },
  {
   "cell_type": "code",
   "execution_count": null,
   "id": "e100b189",
   "metadata": {},
   "outputs": [],
   "source": []
  }
 ],
 "metadata": {
  "kernelspec": {
   "display_name": "Python 3 (ipykernel)",
   "language": "python",
   "name": "python3"
  },
  "language_info": {
   "codemirror_mode": {
    "name": "ipython",
    "version": 3
   },
   "file_extension": ".py",
   "mimetype": "text/x-python",
   "name": "python",
   "nbconvert_exporter": "python",
   "pygments_lexer": "ipython3",
   "version": "3.11.3"
  }
 },
 "nbformat": 4,
 "nbformat_minor": 5
}
